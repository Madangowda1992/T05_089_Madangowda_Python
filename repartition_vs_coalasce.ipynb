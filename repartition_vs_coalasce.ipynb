{
  "nbformat": 4,
  "nbformat_minor": 0,
  "metadata": {
    "colab": {
      "provenance": [],
      "authorship_tag": "ABX9TyMOWrfZfZXvzD9KCPD0Qz1C",
      "include_colab_link": true
    },
    "kernelspec": {
      "name": "python3",
      "display_name": "Python 3"
    },
    "language_info": {
      "name": "python"
    }
  },
  "cells": [
    {
      "cell_type": "markdown",
      "metadata": {
        "id": "view-in-github",
        "colab_type": "text"
      },
      "source": [
        "<a href=\"https://colab.research.google.com/github/Madangowda1992/T05_089_Madangowda_Python/blob/pyspark_worksheet1/repartition_vs_coalasce.ipynb\" target=\"_parent\"><img src=\"https://colab.research.google.com/assets/colab-badge.svg\" alt=\"Open In Colab\"/></a>"
      ]
    },
    {
      "cell_type": "code",
      "execution_count": null,
      "metadata": {
        "id": "weLLCMxxWsyS"
      },
      "outputs": [],
      "source": [
        "!apt-get install openjdk-8-jdk-headless -qq > /dev/null\n",
        "\n",
        "!wget -q https://dlcdn.apache.org/spark/spark-3.2.2/spark-3.2.2-bin-hadoop3.2.tgz \n",
        "\n",
        "!tar xf spark-3.2.2-bin-hadoop3.2.tgz\n",
        "\n",
        "!pip install -q findspark\n",
        "\n",
        "import os\n",
        "\n",
        "os.environ[\"JAVA_HOME\"] = \"/usr/lib/jvm/java-8-openjdk-amd64\"\n",
        "\n",
        "os.environ[\"SPARK_HOME\"] = \"/content/spark-3.2.2-bin-hadoop3.2\"\n",
        "\n",
        "import findspark\n",
        "\n",
        "findspark.init()\n",
        "\n",
        "findspark.find()\n",
        "\n",
        "from pyspark.context import SparkContext\n",
        "from pyspark.sql.session import SparkSession\n",
        "from pyspark.sql import SparkSession\n",
        "from pyspark.sql.types import IntegerType, DateType, StringType, StructType, StructField\n",
        "from datetime import date, timedelta\n",
        "import pyspark.sql.functions as F\n",
        "\n",
        "\n",
        "spark = SparkSession.builder.appName('SparkByExamples.com').getOrCreate()"
      ]
    },
    {
      "cell_type": "code",
      "source": [
        "rdd=spark.sparkContext.parallelize((0,20)) \n",
        "rdd.collect()\n",
        "print(str(rdd.getNumPartitions()))"
      ],
      "metadata": {
        "colab": {
          "base_uri": "https://localhost:8080/"
        },
        "id": "_ha0VljOZ0ox",
        "outputId": "d1d8e211-d7e2-45f2-9e8c-3fa100510f86"
      },
      "execution_count": null,
      "outputs": [
        {
          "output_type": "stream",
          "name": "stdout",
          "text": [
            "2\n"
          ]
        }
      ]
    },
    {
      "cell_type": "code",
      "source": [
        "rdd1=rdd.repartition(5)\n",
        "print(rdd1.getNumPartitions()) #repartitioning from 2 to 5 partitions"
      ],
      "metadata": {
        "colab": {
          "base_uri": "https://localhost:8080/"
        },
        "id": "bmOMDjSpa5va",
        "outputId": "4d5999e4-3c9d-4bf9-cd4f-6da56d6d62b7"
      },
      "execution_count": null,
      "outputs": [
        {
          "output_type": "stream",
          "name": "stdout",
          "text": [
            "5\n"
          ]
        }
      ]
    },
    {
      "cell_type": "code",
      "source": [
        "rdd2=rdd.repartition(10)\n",
        "print(rdd2.getNumPartitions())\n",
        "rdd2.saveAsTextFile('repartition_example.txt') "
      ],
      "metadata": {
        "colab": {
          "base_uri": "https://localhost:8080/"
        },
        "id": "mfUIvzSYcF27",
        "outputId": "7d6c015b-d7ed-4370-9996-1b40743dedde"
      },
      "execution_count": null,
      "outputs": [
        {
          "output_type": "stream",
          "name": "stdout",
          "text": [
            "10\n"
          ]
        }
      ]
    },
    {
      "cell_type": "code",
      "source": [
        "rdd4=rdd.coalesce(1)\n",
        "print(rdd4.getNumPartitions())\n",
        "rdd5=rdd2.coalesce(5)\n",
        "print(rdd5.getNumPartitions())\n",
        "rdd5.saveAsTextFile(\"coalasecdemo.txt\")"
      ],
      "metadata": {
        "colab": {
          "base_uri": "https://localhost:8080/"
        },
        "id": "K302RCTmoElJ",
        "outputId": "3f5d82c6-cb03-4f1d-bfe1-6026cd6793c0"
      },
      "execution_count": null,
      "outputs": [
        {
          "output_type": "stream",
          "name": "stdout",
          "text": [
            "1\n",
            "5\n"
          ]
        }
      ]
    },
    {
      "cell_type": "markdown",
      "source": [],
      "metadata": {
        "id": "z5tA3ZPGoBfk"
      }
    },
    {
      "cell_type": "code",
      "source": [
        "df=spark.read.format('text').option('header',True).load('/content/sample_data/california_housing_test.csv')\n",
        "df.show()"
      ],
      "metadata": {
        "colab": {
          "base_uri": "https://localhost:8080/"
        },
        "id": "XK4-75aOLRam",
        "outputId": "ac6f600b-6cdc-4a1c-c441-9ecbdf4fe557"
      },
      "execution_count": null,
      "outputs": [
        {
          "output_type": "stream",
          "name": "stdout",
          "text": [
            "+--------------------+\n",
            "|               value|\n",
            "+--------------------+\n",
            "|\"longitude\",\"lati...|\n",
            "|-122.050000,37.37...|\n",
            "|-118.300000,34.26...|\n",
            "|-117.810000,33.78...|\n",
            "|-118.360000,33.82...|\n",
            "|-119.670000,36.33...|\n",
            "|-119.560000,36.51...|\n",
            "|-121.430000,38.63...|\n",
            "|-120.650000,35.48...|\n",
            "|-122.840000,38.40...|\n",
            "|-118.020000,34.08...|\n",
            "|-118.240000,33.98...|\n",
            "|-119.120000,35.85...|\n",
            "|-121.930000,37.25...|\n",
            "|-117.030000,32.97...|\n",
            "|-117.970000,33.73...|\n",
            "|-117.990000,33.81...|\n",
            "|-120.810000,37.53...|\n",
            "|-121.200000,38.69...|\n",
            "|-118.880000,34.21...|\n",
            "+--------------------+\n",
            "only showing top 20 rows\n",
            "\n"
          ]
        }
      ]
    },
    {
      "cell_type": "code",
      "source": [
        "df1=df.repartition(10)\n",
        "print('Number of partions is',df1.rdd.getNumPartitions())\n",
        "df1.write.mode('overwrite').text('df_partition.txt')\n",
        "df2=df1.repartition(5)\n",
        "print('number of partition after repartition:',df2.rdd.getNumPartitions())\n"
      ],
      "metadata": {
        "colab": {
          "base_uri": "https://localhost:8080/"
        },
        "id": "g7Pe5D1MNQwa",
        "outputId": "0ee76b6e-fca6-4489-e5d9-202587323c9e"
      },
      "execution_count": null,
      "outputs": [
        {
          "output_type": "stream",
          "name": "stdout",
          "text": [
            "Number of partions is 10\n",
            "number of partition after repartition: 5\n"
          ]
        }
      ]
    },
    {
      "cell_type": "code",
      "source": [
        "df2.rdd.coalesce(2)\n",
        "print('Number of partitions after coalesce:',df2.rdd.getNumPartitions())\n"
      ],
      "metadata": {
        "colab": {
          "base_uri": "https://localhost:8080/"
        },
        "id": "G8q6Cf-JQlNf",
        "outputId": "e93b9468-0df3-4cf5-92fd-b34156886c4a"
      },
      "execution_count": null,
      "outputs": [
        {
          "output_type": "stream",
          "name": "stdout",
          "text": [
            "Number of partitions after coalesce: 5\n"
          ]
        }
      ]
    }
  ]
}
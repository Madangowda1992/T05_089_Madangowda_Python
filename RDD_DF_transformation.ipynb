{
  "nbformat": 4,
  "nbformat_minor": 0,
  "metadata": {
    "colab": {
      "provenance": [],
      "authorship_tag": "ABX9TyMl3+40jenl1jvwzv9e3rsT",
      "include_colab_link": true
    },
    "kernelspec": {
      "name": "python3",
      "display_name": "Python 3"
    },
    "language_info": {
      "name": "python"
    }
  },
  "cells": [
    {
      "cell_type": "markdown",
      "metadata": {
        "id": "view-in-github",
        "colab_type": "text"
      },
      "source": [
        "<a href=\"https://colab.research.google.com/github/Madangowda1992/T05_089_Madangowda_Python/blob/pyspark_worksheet1/RDD_DF_transformation.ipynb\" target=\"_parent\"><img src=\"https://colab.research.google.com/assets/colab-badge.svg\" alt=\"Open In Colab\"/></a>"
      ]
    },
    {
      "cell_type": "code",
      "execution_count": 6,
      "metadata": {
        "id": "wf2Hd9MlKxBI"
      },
      "outputs": [],
      "source": [
        "!apt-get install openjdk-8-jdk-headless -qq > /dev/null\n",
        "\n",
        "!wget -q https://dlcdn.apache.org/spark/spark-3.2.2/spark-3.2.2-bin-hadoop3.2.tgz \n",
        "\n",
        "!tar xf spark-3.2.2-bin-hadoop3.2.tgz\n",
        "\n",
        "!pip install -q findspark\n",
        "\n",
        "import os\n",
        "\n",
        "os.environ[\"JAVA_HOME\"] = \"/usr/lib/jvm/java-8-openjdk-amd64\"\n",
        "\n",
        "os.environ[\"SPARK_HOME\"] = \"/content/spark-3.2.2-bin-hadoop3.2\"\n",
        "\n",
        "import findspark\n",
        "\n",
        "findspark.init()\n",
        "\n",
        "findspark.find()\n",
        "\n",
        "from pyspark.context import SparkContext\n",
        "from pyspark.sql.session import SparkSession\n",
        "from pyspark.sql import SparkSession\n",
        "from pyspark.sql.types import IntegerType, DateType, StringType, StructType, StructField\n",
        "from datetime import date, timedelta\n",
        "import pyspark.sql.functions as F\n",
        "from pyspark import SparkContext\n",
        "sc =SparkContext.getOrCreate()\n",
        "spark = SparkSession.builder.appName('SparkByExamples.com').getOrCreate()\n",
        "\n"
      ]
    },
    {
      "cell_type": "code",
      "source": [
        "data =(\"Project\",\n",
        "  \"Gutenberg’s\",\n",
        "  \"Alice’s\",\n",
        "  \"Adventures\",\n",
        "  \"in\",\n",
        "  \"Wonderland\",\n",
        "  \"Project\",\n",
        "  \"Gutenberg’s\",\n",
        "  \"Adventures\",\n",
        "  \"in\",\n",
        "  \"Wonderland\",\n",
        "  \"Project\",\n",
        "  \"Gutenberg’s\")\n",
        "\n",
        "#rdd creation using parallelize()method:\n",
        "rdd=spark.sparkContext.parallelize(data)\n"
      ],
      "metadata": {
        "id": "SEm3hF9ZrKea"
      },
      "execution_count": 7,
      "outputs": []
    },
    {
      "cell_type": "code",
      "source": [
        "rdd.collect()"
      ],
      "metadata": {
        "colab": {
          "base_uri": "https://localhost:8080/"
        },
        "id": "PR687FKQrpef",
        "outputId": "5c2c49e1-22d9-40bc-ae35-e6e8c2c64d79"
      },
      "execution_count": 8,
      "outputs": [
        {
          "output_type": "execute_result",
          "data": {
            "text/plain": [
              "['Project',\n",
              " 'Gutenberg’s',\n",
              " 'Alice’s',\n",
              " 'Adventures',\n",
              " 'in',\n",
              " 'Wonderland',\n",
              " 'Project',\n",
              " 'Gutenberg’s',\n",
              " 'Adventures',\n",
              " 'in',\n",
              " 'Wonderland',\n",
              " 'Project',\n",
              " 'Gutenberg’s']"
            ]
          },
          "metadata": {},
          "execution_count": 8
        }
      ]
    },
    {
      "cell_type": "code",
      "source": [
        "data=[]\n",
        "count=0\n",
        "data=rdd.collect()\n",
        "for i in data:\n",
        "  \n",
        "  count+=1\n",
        "  print(count,':',i)"
      ],
      "metadata": {
        "colab": {
          "base_uri": "https://localhost:8080/"
        },
        "id": "0kUlvEznr5Jk",
        "outputId": "0376e5f7-c566-4d41-cc47-ecd6d00a2e37"
      },
      "execution_count": 11,
      "outputs": [
        {
          "output_type": "stream",
          "name": "stdout",
          "text": [
            "1 : Project\n",
            "2 : Gutenberg’s\n",
            "3 : Alice’s\n",
            "4 : Adventures\n",
            "5 : in\n",
            "6 : Wonderland\n",
            "7 : Project\n",
            "8 : Gutenberg’s\n",
            "9 : Adventures\n",
            "10 : in\n",
            "11 : Wonderland\n",
            "12 : Project\n",
            "13 : Gutenberg’s\n"
          ]
        }
      ]
    },
    {
      "cell_type": "code",
      "source": [
        "\n",
        "rdd2=rdd.map(lambda x: (x,0))\n",
        "for element in rdd2.collect():\n",
        "    print(element)\n",
        "\n",
        "\n"
      ],
      "metadata": {
        "colab": {
          "base_uri": "https://localhost:8080/"
        },
        "id": "nWQn4Pw8xNQM",
        "outputId": "f7dabecb-89c9-4a77-cbb7-c78300668384"
      },
      "execution_count": 12,
      "outputs": [
        {
          "output_type": "stream",
          "name": "stdout",
          "text": [
            "('Project', 0)\n",
            "('Gutenberg’s', 0)\n",
            "('Alice’s', 0)\n",
            "('Adventures', 0)\n",
            "('in', 0)\n",
            "('Wonderland', 0)\n",
            "('Project', 0)\n",
            "('Gutenberg’s', 0)\n",
            "('Adventures', 0)\n",
            "('in', 0)\n",
            "('Wonderland', 0)\n",
            "('Project', 0)\n",
            "('Gutenberg’s', 0)\n"
          ]
        }
      ]
    },
    {
      "cell_type": "code",
      "source": [
        "#map() with Dataframe example:\n",
        "#No map in dataframe to use lamda() function.we have to convert it into RDD First.\n",
        "data = [('James','Smith','M',30),\n",
        "        ('Anna','Rose','F',31),\n",
        "        ('Robert','Williams','M',32), \n",
        "       ]\n",
        "\n",
        "columns = [\"firstname\",\"lastname\",\"gender\",\"age\"]\n",
        "df = spark.createDataFrame(data=data, schema = columns)\n",
        "df.show()\n"
      ],
      "metadata": {
        "colab": {
          "base_uri": "https://localhost:8080/"
        },
        "id": "x0xiqZtp9lm7",
        "outputId": "0f0111cd-2d41-448d-810f-845c9497b435"
      },
      "execution_count": 13,
      "outputs": [
        {
          "output_type": "stream",
          "name": "stdout",
          "text": [
            "+---------+--------+------+---+\n",
            "|firstname|lastname|gender|age|\n",
            "+---------+--------+------+---+\n",
            "|    James|   Smith|     M| 30|\n",
            "|     Anna|    Rose|     F| 31|\n",
            "|   Robert|Williams|     M| 32|\n",
            "+---------+--------+------+---+\n",
            "\n"
          ]
        }
      ]
    },
    {
      "cell_type": "code",
      "source": [
        "rdd2=df.rdd.map(lambda x :(x[0]+','+x[1],x[2],x[3])\n",
        "                          )\n",
        "rdd2.collect()\n",
        "df2=rdd2.toDF(['Name','Gender','Age'])\n",
        "df2.show()\n"
      ],
      "metadata": {
        "colab": {
          "base_uri": "https://localhost:8080/"
        },
        "id": "JSV8QROO_fzS",
        "outputId": "79aa9cd8-a667-4900-de64-b69a0870e4b4"
      },
      "execution_count": 14,
      "outputs": [
        {
          "output_type": "stream",
          "name": "stdout",
          "text": [
            "+---------------+------+---+\n",
            "|           Name|Gender|Age|\n",
            "+---------------+------+---+\n",
            "|    James,Smith|     M| 30|\n",
            "|      Anna,Rose|     F| 31|\n",
            "|Robert,Williams|     M| 32|\n",
            "+---------------+------+---+\n",
            "\n"
          ]
        }
      ]
    },
    {
      "cell_type": "code",
      "source": [
        "#Using column name as a reference\n",
        "rdd3=df.rdd.map(lambda x:x['firstname'])\n",
        "rdd3.collect()"
      ],
      "metadata": {
        "colab": {
          "base_uri": "https://localhost:8080/"
        },
        "id": "cJ1qsqNvDflR",
        "outputId": "dc8be7ba-2283-4b45-e1d9-61faca4427e2"
      },
      "execution_count": 17,
      "outputs": [
        {
          "output_type": "execute_result",
          "data": {
            "text/plain": [
              "['James', 'Anna', 'Robert']"
            ]
          },
          "metadata": {},
          "execution_count": 17
        }
      ]
    }
  ]
}
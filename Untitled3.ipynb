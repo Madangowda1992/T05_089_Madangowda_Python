{
  "nbformat": 4,
  "nbformat_minor": 0,
  "metadata": {
    "colab": {
      "provenance": [],
      "collapsed_sections": [],
      "authorship_tag": "ABX9TyPwJF4DtdwutfRc2JzkWS+q",
      "include_colab_link": true
    },
    "kernelspec": {
      "name": "python3",
      "display_name": "Python 3"
    },
    "language_info": {
      "name": "python"
    }
  },
  "cells": [
    {
      "cell_type": "markdown",
      "metadata": {
        "id": "view-in-github",
        "colab_type": "text"
      },
      "source": [
        "<a href=\"https://colab.research.google.com/github/Madangowda1992/T05_089_Madangowda_Python/blob/pyspark_worksheet1/Untitled3.ipynb\" target=\"_parent\"><img src=\"https://colab.research.google.com/assets/colab-badge.svg\" alt=\"Open In Colab\"/></a>"
      ]
    },
    {
      "cell_type": "code",
      "execution_count": null,
      "metadata": {
        "id": "gU1UZNLbKnkm"
      },
      "outputs": [],
      "source": [
        "!apt-get install openjdk-8-jdk-headless -qq > /dev/null\n",
        "\n",
        "!wget -q https://dlcdn.apache.org/spark/spark-3.2.2/spark-3.2.2-bin-hadoop3.2.tgz \n",
        "\n",
        "!tar xf spark-3.2.2-bin-hadoop3.2.tgz\n",
        "\n",
        "!pip install -q findspark\n",
        "\n",
        "import os\n",
        "\n",
        "os.environ[\"JAVA_HOME\"] = \"/usr/lib/jvm/java-8-openjdk-amd64\"\n",
        "\n",
        "os.environ[\"SPARK_HOME\"] = \"/content/spark-3.2.2-bin-hadoop3.2\"\n",
        "\n",
        "import findspark\n",
        "\n",
        "findspark.init()\n",
        "\n",
        "findspark.find()\n",
        "\n",
        "from pyspark.context import SparkContext\n",
        "from pyspark.sql.session import SparkSession\n",
        "from pyspark.sql import SparkSession\n",
        "from pyspark.sql.types import IntegerType, DateType, StringType, StructType, StructField\n",
        "from datetime import date, timedelta\n",
        "import pyspark.sql.functions as F\n",
        "\n",
        "\n",
        "spark = SparkSession.builder.appName('SparkByExamples.com').getOrCreate()"
      ]
    },
    {
      "cell_type": "code",
      "source": [
        "data=[  [\"1\", \"Amit\", \"DU\"],\n",
        "        [\"2\", \"Mohit\", \"DU\"],\n",
        "        [\"3\", \"rohith\", \"BHU\"],\n",
        "        [\"4\", \"sridevi\", \"LPU\"],\n",
        "        [\"1\", \"sravan\", \"KLMP\"],\n",
        "        [\"5\", \"gnanesh\", \"IIT\"]\n",
        "    ]\n",
        "coloumn=['emp_id','emp_name','emp_city']\n",
        "df=spark.createDataFrame(data,coloumn)\n",
        "df.show()"
      ],
      "metadata": {
        "colab": {
          "base_uri": "https://localhost:8080/"
        },
        "id": "E8cXYM6RLa6F",
        "outputId": "5c8f6a52-d428-44d9-858e-54f1e4bcfcce"
      },
      "execution_count": null,
      "outputs": [
        {
          "output_type": "stream",
          "name": "stdout",
          "text": [
            "+------+--------+--------+\n",
            "|emp_id|emp_name|emp_city|\n",
            "+------+--------+--------+\n",
            "|     1|    Amit|      DU|\n",
            "|     2|   Mohit|      DU|\n",
            "|     3|  rohith|     BHU|\n",
            "|     4| sridevi|     LPU|\n",
            "|     1|  sravan|    KLMP|\n",
            "|     5| gnanesh|     IIT|\n",
            "+------+--------+--------+\n",
            "\n"
          ]
        }
      ]
    },
    {
      "cell_type": "code",
      "source": [
        "df.filter(df.emp_name=='Amit').show() #//filter using single condition"
      ],
      "metadata": {
        "colab": {
          "base_uri": "https://localhost:8080/"
        },
        "id": "ce-v5GBMNaR0",
        "outputId": "42376f10-4e66-4747-a113-93660385c2b2"
      },
      "execution_count": null,
      "outputs": [
        {
          "output_type": "stream",
          "name": "stdout",
          "text": [
            "+------+--------+--------+\n",
            "|emp_id|emp_name|emp_city|\n",
            "+------+--------+--------+\n",
            "|     1|    Amit|      DU|\n",
            "+------+--------+--------+\n",
            "\n"
          ]
        }
      ]
    },
    {
      "cell_type": "code",
      "source": [
        "df.filter((df.emp_id=='5') & (df.emp_name=='Amit')).show()"
      ],
      "metadata": {
        "colab": {
          "base_uri": "https://localhost:8080/"
        },
        "id": "s-ou2usLOXIU",
        "outputId": "51328ab9-5440-442c-aeb2-12f1e458b5ef"
      },
      "execution_count": null,
      "outputs": [
        {
          "output_type": "stream",
          "name": "stdout",
          "text": [
            "+------+--------+--------+\n",
            "|emp_id|emp_name|emp_city|\n",
            "+------+--------+--------+\n",
            "+------+--------+--------+\n",
            "\n"
          ]
        }
      ]
    },
    {
      "cell_type": "code",
      "source": [
        "from pyspark.sql.functions import col\n",
        "df.filter(col('emp_name')=='Amit').show()"
      ],
      "metadata": {
        "colab": {
          "base_uri": "https://localhost:8080/"
        },
        "id": "O1FtFbgCQKt0",
        "outputId": "45a363df-06d1-42d3-e11c-2e8835194cb2"
      },
      "execution_count": null,
      "outputs": [
        {
          "output_type": "stream",
          "name": "stdout",
          "text": [
            "+------+--------+--------+\n",
            "|emp_id|emp_name|emp_city|\n",
            "+------+--------+--------+\n",
            "|     1|    Amit|      DU|\n",
            "+------+--------+--------+\n",
            "\n"
          ]
        }
      ]
    },
    {
      "cell_type": "code",
      "source": [
        "df.filter(col(\"emp_id\")==1).show()\n",
        "df.filter(col(\"emp_city\")==\"DU\").show()\n"
      ],
      "metadata": {
        "colab": {
          "base_uri": "https://localhost:8080/"
        },
        "id": "jPK-AStBRFQz",
        "outputId": "63cfea7c-5172-4aef-d902-1c40456063de"
      },
      "execution_count": null,
      "outputs": [
        {
          "output_type": "stream",
          "name": "stdout",
          "text": [
            "+------+--------+--------+\n",
            "|emp_id|emp_name|emp_city|\n",
            "+------+--------+--------+\n",
            "|     1|    Amit|      DU|\n",
            "|     1|  sravan|    KLMP|\n",
            "+------+--------+--------+\n",
            "\n",
            "+------+--------+--------+\n",
            "|emp_id|emp_name|emp_city|\n",
            "+------+--------+--------+\n",
            "|     1|    Amit|      DU|\n",
            "|     2|   Mohit|      DU|\n",
            "+------+--------+--------+\n",
            "\n"
          ]
        }
      ]
    },
    {
      "cell_type": "code",
      "source": [],
      "metadata": {
        "id": "LPr9CWmOdkSf"
      },
      "execution_count": null,
      "outputs": []
    },
    {
      "cell_type": "code",
      "source": [
        "df.filter ((col(\"emp_name\") =='sravan') & (col(\"emp_id\")=='2')).show()"
      ],
      "metadata": {
        "colab": {
          "base_uri": "https://localhost:8080/"
        },
        "id": "JYutKl1Wbqq8",
        "outputId": "b8d652ba-5bbb-4c53-bc89-3ae01aae0aff"
      },
      "execution_count": null,
      "outputs": [
        {
          "output_type": "stream",
          "name": "stdout",
          "text": [
            "+------+--------+--------+\n",
            "|emp_id|emp_name|emp_city|\n",
            "+------+--------+--------+\n",
            "+------+--------+--------+\n",
            "\n"
          ]
        }
      ]
    },
    {
      "cell_type": "code",
      "source": [
        "list=[1,2,3]\n",
        "df.filter(df.emp_id.isin(list)).show()"
      ],
      "metadata": {
        "colab": {
          "base_uri": "https://localhost:8080/"
        },
        "id": "RUOfJCF4esAb",
        "outputId": "bcbaa047-2d41-425d-9f6e-30139b07016f"
      },
      "execution_count": null,
      "outputs": [
        {
          "output_type": "stream",
          "name": "stdout",
          "text": [
            "+------+--------+--------+\n",
            "|emp_id|emp_name|emp_city|\n",
            "+------+--------+--------+\n",
            "|     1|    Amit|      DU|\n",
            "|     2|   Mohit|      DU|\n",
            "|     3|  rohith|     BHU|\n",
            "|     1|  sravan|    KLMP|\n",
            "+------+--------+--------+\n",
            "\n"
          ]
        }
      ]
    },
    {
      "cell_type": "code",
      "source": [],
      "metadata": {
        "id": "FLMAt4Sgzxea"
      },
      "execution_count": null,
      "outputs": []
    },
    {
      "cell_type": "code",
      "source": [
        "list=['Amit','Mohit']\n",
        "df.filter(df.emp_name.isin(list)).show()\n"
      ],
      "metadata": {
        "colab": {
          "base_uri": "https://localhost:8080/"
        },
        "id": "kZ6kEXTke87r",
        "outputId": "05de023d-fa9f-49f7-a50d-5224d917a880"
      },
      "execution_count": null,
      "outputs": [
        {
          "output_type": "stream",
          "name": "stdout",
          "text": [
            "+------+--------+--------+\n",
            "|emp_id|emp_name|emp_city|\n",
            "+------+--------+--------+\n",
            "|     1|    Amit|      DU|\n",
            "|     2|   Mohit|      DU|\n",
            "+------+--------+--------+\n",
            "\n"
          ]
        }
      ]
    },
    {
      "cell_type": "code",
      "source": [
        "df.filter(df.emp_name.startswith(\"s\")).show()"
      ],
      "metadata": {
        "colab": {
          "base_uri": "https://localhost:8080/"
        },
        "id": "qNefuFhYhSrm",
        "outputId": "893754f6-6f79-457f-eeac-e090f9c91f9e"
      },
      "execution_count": null,
      "outputs": [
        {
          "output_type": "stream",
          "name": "stdout",
          "text": [
            "+------+--------+--------+\n",
            "|emp_id|emp_name|emp_city|\n",
            "+------+--------+--------+\n",
            "|     4| sridevi|     LPU|\n",
            "|     1|  sravan|    KLMP|\n",
            "+------+--------+--------+\n",
            "\n"
          ]
        }
      ]
    },
    {
      "cell_type": "code",
      "source": [],
      "metadata": {
        "id": "NE-x-tudz4-y"
      },
      "execution_count": null,
      "outputs": []
    },
    {
      "cell_type": "code",
      "source": [
        "df.filter((df.emp_name.endswith(\"t\")) & (df.emp_city.endswith(\"U\"))).show()"
      ],
      "metadata": {
        "colab": {
          "base_uri": "https://localhost:8080/"
        },
        "id": "RKlFWlD_hbtF",
        "outputId": "d10182ee-0462-40ab-ae7e-3d5117285c9e"
      },
      "execution_count": null,
      "outputs": [
        {
          "output_type": "stream",
          "name": "stdout",
          "text": [
            "+------+--------+--------+\n",
            "|emp_id|emp_name|emp_city|\n",
            "+------+--------+--------+\n",
            "|     1|    Amit|      DU|\n",
            "|     2|   Mohit|      DU|\n",
            "+------+--------+--------+\n",
            "\n"
          ]
        }
      ]
    },
    {
      "cell_type": "code",
      "source": [
        "df.filter(df.emp_name.endswith(\"it\")).show()"
      ],
      "metadata": {
        "colab": {
          "base_uri": "https://localhost:8080/"
        },
        "id": "nf6ZB9igiAdC",
        "outputId": "a20a1c5f-1e21-4c41-e1f5-c387f967b179"
      },
      "execution_count": null,
      "outputs": [
        {
          "output_type": "stream",
          "name": "stdout",
          "text": [
            "+------+--------+--------+\n",
            "|emp_id|emp_name|emp_city|\n",
            "+------+--------+--------+\n",
            "|     1|    Amit|      DU|\n",
            "|     2|   Mohit|      DU|\n",
            "+------+--------+--------+\n",
            "\n"
          ]
        }
      ]
    },
    {
      "cell_type": "code",
      "source": [
        "df.select(\"emp_name\").show() #shows only emp_name coloumn"
      ],
      "metadata": {
        "colab": {
          "base_uri": "https://localhost:8080/"
        },
        "id": "ynXXFnwHfU5h",
        "outputId": "066a0d03-ad5a-4e6f-af18-29bec14f15be"
      },
      "execution_count": null,
      "outputs": [
        {
          "output_type": "stream",
          "name": "stdout",
          "text": [
            "+--------+\n",
            "|emp_name|\n",
            "+--------+\n",
            "|    Amit|\n",
            "|   Mohit|\n",
            "|  rohith|\n",
            "| sridevi|\n",
            "|  sravan|\n",
            "| gnanesh|\n",
            "+--------+\n",
            "\n"
          ]
        }
      ]
    },
    {
      "cell_type": "code",
      "source": [
        "df.select(\"emp_city\").show()"
      ],
      "metadata": {
        "colab": {
          "base_uri": "https://localhost:8080/"
        },
        "id": "Th6wXp00w17C",
        "outputId": "a0fc3854-82d5-4a21-8e76-77353a18ca6e"
      },
      "execution_count": null,
      "outputs": [
        {
          "output_type": "stream",
          "name": "stdout",
          "text": [
            "+--------+\n",
            "|emp_city|\n",
            "+--------+\n",
            "|      DU|\n",
            "|      DU|\n",
            "|     BHU|\n",
            "|     LPU|\n",
            "|    KLMP|\n",
            "|     IIT|\n",
            "+--------+\n",
            "\n"
          ]
        }
      ]
    },
    {
      "cell_type": "code",
      "source": [
        "df.select(df.emp_name,df.emp_city).show() #selects two coloumns with df.coloumn name"
      ],
      "metadata": {
        "colab": {
          "base_uri": "https://localhost:8080/"
        },
        "id": "NPPfWwVfxCQv",
        "outputId": "dfdc94aa-5562-4e74-9602-0f585f5afbe1"
      },
      "execution_count": null,
      "outputs": [
        {
          "output_type": "stream",
          "name": "stdout",
          "text": [
            "+--------+--------+\n",
            "|emp_name|emp_city|\n",
            "+--------+--------+\n",
            "|    Amit|      DU|\n",
            "|   Mohit|      DU|\n",
            "|  rohith|     BHU|\n",
            "| sridevi|     LPU|\n",
            "|  sravan|    KLMP|\n",
            "| gnanesh|     IIT|\n",
            "+--------+--------+\n",
            "\n"
          ]
        }
      ]
    },
    {
      "cell_type": "code",
      "source": [
        "df.select(df[\"emp_name\"],df[\"emp_city\"]).show()"
      ],
      "metadata": {
        "colab": {
          "base_uri": "https://localhost:8080/"
        },
        "id": "5J62Vgepx84G",
        "outputId": "552387dc-f913-4b4e-c7ca-ad3cef9857ab"
      },
      "execution_count": null,
      "outputs": [
        {
          "output_type": "stream",
          "name": "stdout",
          "text": [
            "+--------+--------+\n",
            "|emp_name|emp_city|\n",
            "+--------+--------+\n",
            "|    Amit|      DU|\n",
            "|   Mohit|      DU|\n",
            "|  rohith|     BHU|\n",
            "| sridevi|     LPU|\n",
            "|  sravan|    KLMP|\n",
            "| gnanesh|     IIT|\n",
            "+--------+--------+\n",
            "\n"
          ]
        }
      ]
    },
    {
      "cell_type": "code",
      "source": [
        "from pyspark.sql.types import StructType, StructField, StringType, IntegerType, FloatType\n"
      ],
      "metadata": {
        "id": "W570C06IzuEU"
      },
      "execution_count": null,
      "outputs": []
    },
    {
      "cell_type": "code",
      "source": [
        "df.select(df.columns[1]).show()\n",
        "df.show()"
      ],
      "metadata": {
        "colab": {
          "base_uri": "https://localhost:8080/"
        },
        "id": "d9fJFgv41TOj",
        "outputId": "f2745ec6-2014-4c02-df19-5f8fbdca5585"
      },
      "execution_count": null,
      "outputs": [
        {
          "output_type": "stream",
          "name": "stdout",
          "text": [
            "+--------+\n",
            "|emp_name|\n",
            "+--------+\n",
            "|    Amit|\n",
            "|   Mohit|\n",
            "|  rohith|\n",
            "| sridevi|\n",
            "|  sravan|\n",
            "| gnanesh|\n",
            "+--------+\n",
            "\n",
            "+------+--------+--------+\n",
            "|emp_id|emp_name|emp_city|\n",
            "+------+--------+--------+\n",
            "|     1|    Amit|      DU|\n",
            "|     2|   Mohit|      DU|\n",
            "|     3|  rohith|     BHU|\n",
            "|     4| sridevi|     LPU|\n",
            "|     1|  sravan|    KLMP|\n",
            "|     5| gnanesh|     IIT|\n",
            "+------+--------+--------+\n",
            "\n"
          ]
        }
      ]
    },
    {
      "cell_type": "code",
      "source": [
        "df.select(df.columns[:2]).show()"
      ],
      "metadata": {
        "colab": {
          "base_uri": "https://localhost:8080/"
        },
        "id": "S0y6_NNv1mHv",
        "outputId": "c3d2cc2b-9d89-4026-8e22-27c881f856fa"
      },
      "execution_count": null,
      "outputs": [
        {
          "output_type": "stream",
          "name": "stdout",
          "text": [
            "+------+--------+\n",
            "|emp_id|emp_name|\n",
            "+------+--------+\n",
            "|     1|    Amit|\n",
            "|     2|   Mohit|\n",
            "|     3|  rohith|\n",
            "|     4| sridevi|\n",
            "|     1|  sravan|\n",
            "|     5| gnanesh|\n",
            "+------+--------+\n",
            "\n"
          ]
        }
      ]
    },
    {
      "cell_type": "code",
      "source": [
        "df.select(df.columns[0:2])"
      ],
      "metadata": {
        "colab": {
          "base_uri": "https://localhost:8080/"
        },
        "id": "6-G1S6RR1w4d",
        "outputId": "9c33215f-99ae-4d91-e2e3-63c25d61a5e3"
      },
      "execution_count": null,
      "outputs": [
        {
          "output_type": "execute_result",
          "data": {
            "text/plain": [
              "DataFrame[emp_id: string, emp_name: string]"
            ]
          },
          "metadata": {},
          "execution_count": 21
        }
      ]
    },
    {
      "cell_type": "code",
      "source": [
        "df.select(df.columns[1:2]).show()"
      ],
      "metadata": {
        "colab": {
          "base_uri": "https://localhost:8080/"
        },
        "id": "qCA-FbqO8tSn",
        "outputId": "73920fa7-74a9-444c-ad01-9be528684e19"
      },
      "execution_count": null,
      "outputs": [
        {
          "output_type": "stream",
          "name": "stdout",
          "text": [
            "+--------+\n",
            "|emp_name|\n",
            "+--------+\n",
            "|    Amit|\n",
            "|   Mohit|\n",
            "|  rohith|\n",
            "| sridevi|\n",
            "|  sravan|\n",
            "| gnanesh|\n",
            "+--------+\n",
            "\n"
          ]
        }
      ]
    },
    {
      "cell_type": "code",
      "source": [
        "df.printSchema()\n",
        "  "
      ],
      "metadata": {
        "colab": {
          "base_uri": "https://localhost:8080/"
        },
        "id": "2p8XKHfZ96BO",
        "outputId": "e1327c69-e143-4787-d659-10f83be3b0e5"
      },
      "execution_count": null,
      "outputs": [
        {
          "output_type": "stream",
          "name": "stdout",
          "text": [
            "root\n",
            " |-- emp_id: string (nullable = true)\n",
            " |-- emp_name: string (nullable = true)\n",
            " |-- emp_city: string (nullable = true)\n",
            "\n"
          ]
        }
      ]
    },
    {
      "cell_type": "code",
      "source": [
        "df.select('emp_name').show()\n",
        "df.select('emp_name','emp_city').show()"
      ],
      "metadata": {
        "colab": {
          "base_uri": "https://localhost:8080/"
        },
        "id": "XQ9_d_Avz7bT",
        "outputId": "2a3c3b1e-d711-42d9-e1ab-51c49e068b0e"
      },
      "execution_count": null,
      "outputs": [
        {
          "output_type": "stream",
          "name": "stdout",
          "text": [
            "+--------+\n",
            "|emp_name|\n",
            "+--------+\n",
            "|    Amit|\n",
            "|   Mohit|\n",
            "|  rohith|\n",
            "| sridevi|\n",
            "|  sravan|\n",
            "| gnanesh|\n",
            "+--------+\n",
            "\n",
            "+--------+--------+\n",
            "|emp_name|emp_city|\n",
            "+--------+--------+\n",
            "|    Amit|      DU|\n",
            "|   Mohit|      DU|\n",
            "|  rohith|     BHU|\n",
            "| sridevi|     LPU|\n",
            "|  sravan|    KLMP|\n",
            "| gnanesh|     IIT|\n",
            "+--------+--------+\n",
            "\n"
          ]
        }
      ]
    },
    {
      "cell_type": "code",
      "source": [
        "df.select(df.columns[0:2]).show()"
      ],
      "metadata": {
        "colab": {
          "base_uri": "https://localhost:8080/"
        },
        "id": "NNUidp-30yg0",
        "outputId": "3d273139-2a0d-4cc5-c72c-f9f7a391f96d"
      },
      "execution_count": null,
      "outputs": [
        {
          "output_type": "stream",
          "name": "stdout",
          "text": [
            "+------+--------+\n",
            "|emp_id|emp_name|\n",
            "+------+--------+\n",
            "|     1|    Amit|\n",
            "|     2|   Mohit|\n",
            "|     3|  rohith|\n",
            "|     4| sridevi|\n",
            "|     1|  sravan|\n",
            "|     5| gnanesh|\n",
            "+------+--------+\n",
            "\n"
          ]
        }
      ]
    },
    {
      "cell_type": "code",
      "source": [
        "df.select(df.emp_name,df.emp_city).show()"
      ],
      "metadata": {
        "colab": {
          "base_uri": "https://localhost:8080/"
        },
        "id": "wya1zYdv0UJz",
        "outputId": "e05b52b2-186b-4857-b796-64e2647e813a"
      },
      "execution_count": null,
      "outputs": [
        {
          "output_type": "stream",
          "name": "stdout",
          "text": [
            "+--------+--------+\n",
            "|emp_name|emp_city|\n",
            "+--------+--------+\n",
            "|    Amit|      DU|\n",
            "|   Mohit|      DU|\n",
            "|  rohith|     BHU|\n",
            "| sridevi|     LPU|\n",
            "|  sravan|    KLMP|\n",
            "| gnanesh|     IIT|\n",
            "+--------+--------+\n",
            "\n"
          ]
        }
      ]
    },
    {
      "cell_type": "code",
      "source": [
        "    data = [\n",
        "              ((\"Pulkit\", \"Dhingra\"), 12, \"CS32\", 82, \"Programming\"),\n",
        "              ((\"Ritika\", \"Pandey\"), 20, \"CS32\", 94, \"Writing\"),\n",
        "              ((\"Atirikt\", \"Sans\"), 4, \"BB21\", 78, None),\n",
        "              ((\"Reshav\", None), 18, None, 56, None),\n",
        "              ((\"madan\",\"gowda\"),30,\"4ni13\",90,\"python\")\n",
        "            ]\n",
        "\n"
      ],
      "metadata": {
        "id": "s-JobGXD1x1o"
      },
      "execution_count": null,
      "outputs": []
    },
    {
      "cell_type": "code",
      "source": [
        "    schema = StructType([\n",
        "            StructField('name', StructType([\n",
        "            StructField('firstname', StringType(), True),\n",
        "            StructField('lastname', StringType(), True)\n",
        "                    ])),\n",
        "            StructField(\"Roll Number\", IntegerType(), True),\n",
        "            StructField(\"Class ID\", StringType(), True),\n",
        "            StructField(\"Marks\", IntegerType(), True),\n",
        "            StructField(\"Extracurricular\", StringType(), True)\n",
        "                    ])"
      ],
      "metadata": {
        "id": "VoLLpNM72cJZ"
      },
      "execution_count": null,
      "outputs": []
    },
    {
      "cell_type": "code",
      "source": [
        "df1=spark.createDataFrame(data=data,schema=schema)"
      ],
      "metadata": {
        "id": "f2AkNBO61ovi"
      },
      "execution_count": null,
      "outputs": []
    },
    {
      "cell_type": "code",
      "source": [
        "df1.printSchema()"
      ],
      "metadata": {
        "colab": {
          "base_uri": "https://localhost:8080/"
        },
        "id": "ZJRA0s4i3mf2",
        "outputId": "e4282086-790a-4813-e468-04fa7e958c08"
      },
      "execution_count": null,
      "outputs": [
        {
          "output_type": "stream",
          "name": "stdout",
          "text": [
            "root\n",
            " |-- name: struct (nullable = true)\n",
            " |    |-- firstname: string (nullable = true)\n",
            " |    |-- lastname: string (nullable = true)\n",
            " |-- Roll Number: integer (nullable = true)\n",
            " |-- Class ID: string (nullable = true)\n",
            " |-- Marks: integer (nullable = true)\n",
            " |-- Extracurricular: string (nullable = true)\n",
            "\n"
          ]
        }
      ]
    },
    {
      "cell_type": "code",
      "source": [
        "df1.show()"
      ],
      "metadata": {
        "colab": {
          "base_uri": "https://localhost:8080/"
        },
        "id": "RNeQvG4N4dl4",
        "outputId": "75bf7486-3a26-4cd1-8126-a80195dd4b73"
      },
      "execution_count": null,
      "outputs": [
        {
          "output_type": "stream",
          "name": "stdout",
          "text": [
            "+-----------------+-----------+--------+-----+---------------+\n",
            "|             name|Roll Number|Class ID|Marks|Extracurricular|\n",
            "+-----------------+-----------+--------+-----+---------------+\n",
            "|{Pulkit, Dhingra}|         12|    CS32|   82|    Programming|\n",
            "| {Ritika, Pandey}|         20|    CS32|   94|        Writing|\n",
            "|  {Atirikt, Sans}|          4|    BB21|   78|           null|\n",
            "|   {Reshav, null}|         18|    null|   56|           null|\n",
            "|   {madan, gowda}|         30|   4ni13|   90|         python|\n",
            "+-----------------+-----------+--------+-----+---------------+\n",
            "\n"
          ]
        }
      ]
    },
    {
      "cell_type": "code",
      "source": [
        "df1.select(\"name.firstname\",\"name.lastname\").show(truncate=False)"
      ],
      "metadata": {
        "colab": {
          "base_uri": "https://localhost:8080/"
        },
        "id": "VPXIXxGC4lUc",
        "outputId": "c7e7331f-b71d-4bd1-8b7b-90d91a62abfe"
      },
      "execution_count": null,
      "outputs": [
        {
          "output_type": "stream",
          "name": "stdout",
          "text": [
            "+---------+--------+\n",
            "|firstname|lastname|\n",
            "+---------+--------+\n",
            "|Pulkit   |Dhingra |\n",
            "|Ritika   |Pandey  |\n",
            "|Atirikt  |Sans    |\n",
            "|Reshav   |null    |\n",
            "|madan    |gowda   |\n",
            "+---------+--------+\n",
            "\n"
          ]
        }
      ]
    },
    {
      "cell_type": "code",
      "source": [],
      "metadata": {
        "id": "EldgaUgAcf45"
      },
      "execution_count": null,
      "outputs": []
    },
    {
      "cell_type": "code",
      "source": [
        "df1.select(\"name.firstname\",\"name.lastname\").show(truncate=True)"
      ],
      "metadata": {
        "colab": {
          "base_uri": "https://localhost:8080/"
        },
        "id": "7MuFx3l86PO1",
        "outputId": "7d390827-461f-42d5-f071-5e73a848374b"
      },
      "execution_count": null,
      "outputs": [
        {
          "output_type": "stream",
          "name": "stdout",
          "text": [
            "+---------+--------+\n",
            "|firstname|lastname|\n",
            "+---------+--------+\n",
            "|   Pulkit| Dhingra|\n",
            "|   Ritika|  Pandey|\n",
            "|  Atirikt|    Sans|\n",
            "|   Reshav|    null|\n",
            "|    madan|   gowda|\n",
            "+---------+--------+\n",
            "\n"
          ]
        }
      ]
    },
    {
      "cell_type": "code",
      "source": [
        "df1.show()"
      ],
      "metadata": {
        "colab": {
          "base_uri": "https://localhost:8080/"
        },
        "id": "gKxiSYYbch59",
        "outputId": "5f2e85e6-a668-44a5-e737-5098c2a26b10"
      },
      "execution_count": null,
      "outputs": [
        {
          "output_type": "stream",
          "name": "stdout",
          "text": [
            "+-----------------+-----------+--------+-----+---------------+\n",
            "|             name|Roll Number|Class ID|Marks|Extracurricular|\n",
            "+-----------------+-----------+--------+-----+---------------+\n",
            "|{Pulkit, Dhingra}|         12|    CS32|   82|    Programming|\n",
            "| {Ritika, Pandey}|         20|    CS32|   94|        Writing|\n",
            "|  {Atirikt, Sans}|          4|    BB21|   78|           null|\n",
            "|   {Reshav, null}|         18|    null|   56|           null|\n",
            "|   {madan, gowda}|         30|   4ni13|   90|         python|\n",
            "+-----------------+-----------+--------+-----+---------------+\n",
            "\n"
          ]
        }
      ]
    },
    {
      "cell_type": "code",
      "source": [],
      "metadata": {
        "id": "0PcK1RzkrcZK"
      },
      "execution_count": null,
      "outputs": []
    },
    {
      "cell_type": "code",
      "source": [
        "df1.select(\"name.firstname\",\"name.lastname\").show()"
      ],
      "metadata": {
        "colab": {
          "base_uri": "https://localhost:8080/"
        },
        "id": "VX5ogaPgcsT2",
        "outputId": "196f83e3-20d4-4148-fa95-3740dee8c313"
      },
      "execution_count": null,
      "outputs": [
        {
          "output_type": "stream",
          "name": "stdout",
          "text": [
            "+---------+--------+\n",
            "|firstname|lastname|\n",
            "+---------+--------+\n",
            "|   Pulkit| Dhingra|\n",
            "|   Ritika|  Pandey|\n",
            "|  Atirikt|    Sans|\n",
            "|   Reshav|    null|\n",
            "|    madan|   gowda|\n",
            "+---------+--------+\n",
            "\n"
          ]
        }
      ]
    },
    {
      "cell_type": "code",
      "source": [
        "df1.select(\"name\").show()"
      ],
      "metadata": {
        "colab": {
          "base_uri": "https://localhost:8080/"
        },
        "id": "PIB5ooEac-xP",
        "outputId": "a9bae581-8def-49f3-8cf2-dc3430444dcb"
      },
      "execution_count": null,
      "outputs": [
        {
          "output_type": "stream",
          "name": "stdout",
          "text": [
            "+-----------------+\n",
            "|             name|\n",
            "+-----------------+\n",
            "|{Pulkit, Dhingra}|\n",
            "| {Ritika, Pandey}|\n",
            "|  {Atirikt, Sans}|\n",
            "|   {Reshav, null}|\n",
            "|   {madan, gowda}|\n",
            "+-----------------+\n",
            "\n"
          ]
        }
      ]
    },
    {
      "cell_type": "code",
      "source": [
        "df1.select(df1.columns[0:2]).show()"
      ],
      "metadata": {
        "colab": {
          "base_uri": "https://localhost:8080/"
        },
        "id": "-UR486KLdKng",
        "outputId": "d96ae184-c438-4a74-a8e5-c43a7329a8c2"
      },
      "execution_count": null,
      "outputs": [
        {
          "output_type": "stream",
          "name": "stdout",
          "text": [
            "+-----------------+-----------+\n",
            "|             name|Roll Number|\n",
            "+-----------------+-----------+\n",
            "|{Pulkit, Dhingra}|         12|\n",
            "| {Ritika, Pandey}|         20|\n",
            "|  {Atirikt, Sans}|          4|\n",
            "|   {Reshav, null}|         18|\n",
            "|   {madan, gowda}|         30|\n",
            "+-----------------+-----------+\n",
            "\n"
          ]
        }
      ]
    },
    {
      "cell_type": "code",
      "source": [
        "df1.select(df1.columns[:2]).show()"
      ],
      "metadata": {
        "colab": {
          "base_uri": "https://localhost:8080/"
        },
        "id": "aTCMQvk-dZcD",
        "outputId": "102f65a9-8369-4721-ed02-ea7f150a2007"
      },
      "execution_count": null,
      "outputs": [
        {
          "output_type": "stream",
          "name": "stdout",
          "text": [
            "+-----------------+-----------+\n",
            "|             name|Roll Number|\n",
            "+-----------------+-----------+\n",
            "|{Pulkit, Dhingra}|         12|\n",
            "| {Ritika, Pandey}|         20|\n",
            "|  {Atirikt, Sans}|          4|\n",
            "|   {Reshav, null}|         18|\n",
            "|   {madan, gowda}|         30|\n",
            "+-----------------+-----------+\n",
            "\n"
          ]
        }
      ]
    },
    {
      "cell_type": "code",
      "source": [
        "df1.printSchema()\n",
        "df1.where(\"name.firstname=='madan'\").show()"
      ],
      "metadata": {
        "colab": {
          "base_uri": "https://localhost:8080/"
        },
        "id": "g1gkR7YW4hTX",
        "outputId": "ff1cf226-38d1-441c-af60-e56c9e01388d"
      },
      "execution_count": null,
      "outputs": [
        {
          "output_type": "stream",
          "name": "stdout",
          "text": [
            "root\n",
            " |-- name: struct (nullable = true)\n",
            " |    |-- firstname: string (nullable = true)\n",
            " |    |-- lastname: string (nullable = true)\n",
            " |-- Roll Number: integer (nullable = true)\n",
            " |-- Class ID: string (nullable = true)\n",
            " |-- Marks: integer (nullable = true)\n",
            " |-- Extracurricular: string (nullable = true)\n",
            "\n",
            "+--------------+-----------+--------+-----+---------------+\n",
            "|          name|Roll Number|Class ID|Marks|Extracurricular|\n",
            "+--------------+-----------+--------+-----+---------------+\n",
            "|{madan, gowda}|         30|   4ni13|   90|         python|\n",
            "+--------------+-----------+--------+-----+---------------+\n",
            "\n"
          ]
        }
      ]
    },
    {
      "cell_type": "code",
      "source": [
        "df_data=df1.cache()\n",
        "df_data.show()"
      ],
      "metadata": {
        "colab": {
          "base_uri": "https://localhost:8080/"
        },
        "id": "6NDfD_IjdljV",
        "outputId": "30f412be-8b56-4329-fd5f-d3a08e3a3124"
      },
      "execution_count": null,
      "outputs": [
        {
          "output_type": "stream",
          "name": "stdout",
          "text": [
            "+-----------------+-----------+--------+-----+---------------+\n",
            "|             name|Roll Number|Class ID|Marks|Extracurricular|\n",
            "+-----------------+-----------+--------+-----+---------------+\n",
            "|{Pulkit, Dhingra}|         12|    CS32|   82|    Programming|\n",
            "| {Ritika, Pandey}|         20|    CS32|   94|        Writing|\n",
            "|  {Atirikt, Sans}|          4|    BB21|   78|           null|\n",
            "|   {Reshav, null}|         18|    null|   56|           null|\n",
            "|   {madan, gowda}|         30|   4ni13|   90|         python|\n",
            "+-----------------+-----------+--------+-----+---------------+\n",
            "\n"
          ]
        }
      ]
    },
    {
      "cell_type": "code",
      "source": [
        "df_demo=spark.read.format(\"csv\").load(\"/content/part-00000\",header=True).show(truncate=False)"
      ],
      "metadata": {
        "colab": {
          "base_uri": "https://localhost:8080/"
        },
        "id": "LS4fEhPAretA",
        "outputId": "46925aac-247c-42f6-ac4a-d16c172eed87"
      },
      "execution_count": null,
      "outputs": [
        {
          "output_type": "stream",
          "name": "stdout",
          "text": [
            "+----+-----+----------+---------+-------+----------+-------+----------+-------------+---------+-------+-----------------+--------------+-------+--------+--------+------+----+--------+------+-------+---------+----------------+--------+------------+------------+--------+-------------+-----------------+------------+------------+\n",
            "|Year|Month|DayofMonth|DayOfWeek|DepTime|CRSDepTime|ArrTime|CRSArrTime|UniqueCarrier|FlightNum|TailNum|ActualElapsedTime|CRSElapsedTime|AirTime|ArrDelay|DepDelay|Origin|Dest|Distance|TaxiIn|TaxiOut|Cancelled|CancellationCode|Diverted|CarrierDelay|WeatherDelay|NASDelay|SecurityDelay|LateAircraftDelay|IsArrDelayed|IsDepDelayed|\n",
            "+----+-----+----------+---------+-------+----------+-------+----------+-------------+---------+-------+-----------------+--------------+-------+--------+--------+------+----+--------+------+-------+---------+----------------+--------+------------+------------+--------+-------------+-----------------+------------+------------+\n",
            "|1987|10   |14        |3        |741    |730       |912    |849       |PS           |1451     |NA     |91               |79            |NA     |23      |11      |SAN   |SFO |447     |NA    |NA     |0        |NA              |0       |NA          |NA          |NA      |NA           |NA               |YES         |YES         |\n",
            "|1987|10   |15        |4        |729    |730       |903    |849       |PS           |1451     |NA     |94               |79            |NA     |14      |-1      |SAN   |SFO |447     |NA    |NA     |0        |NA              |0       |NA          |NA          |NA      |NA           |NA               |YES         |NO          |\n",
            "|1987|10   |17        |6        |741    |730       |918    |849       |PS           |1451     |NA     |97               |79            |NA     |29      |11      |SAN   |SFO |447     |NA    |NA     |0        |NA              |0       |NA          |NA          |NA      |NA           |NA               |YES         |YES         |\n",
            "|1987|10   |18        |7        |729    |730       |847    |849       |PS           |1451     |NA     |78               |79            |NA     |-2      |-1      |SAN   |SFO |447     |NA    |NA     |0        |NA              |0       |NA          |NA          |NA      |NA           |NA               |NO          |NO          |\n",
            "|1987|10   |19        |1        |749    |730       |922    |849       |PS           |1451     |NA     |93               |79            |NA     |33      |19      |SAN   |SFO |447     |NA    |NA     |0        |NA              |0       |NA          |NA          |NA      |NA           |NA               |YES         |YES         |\n",
            "|1987|10   |21        |3        |728    |730       |848    |849       |PS           |1451     |NA     |80               |79            |NA     |-1      |-2      |SAN   |SFO |447     |NA    |NA     |0        |NA              |0       |NA          |NA          |NA      |NA           |NA               |NO          |NO          |\n",
            "|1987|10   |22        |4        |728    |730       |852    |849       |PS           |1451     |NA     |84               |79            |NA     |3       |-2      |SAN   |SFO |447     |NA    |NA     |0        |NA              |0       |NA          |NA          |NA      |NA           |NA               |YES         |NO          |\n",
            "|1987|10   |23        |5        |731    |730       |902    |849       |PS           |1451     |NA     |91               |79            |NA     |13      |1       |SAN   |SFO |447     |NA    |NA     |0        |NA              |0       |NA          |NA          |NA      |NA           |NA               |YES         |YES         |\n",
            "|1987|10   |24        |6        |744    |730       |908    |849       |PS           |1451     |NA     |84               |79            |NA     |19      |14      |SAN   |SFO |447     |NA    |NA     |0        |NA              |0       |NA          |NA          |NA      |NA           |NA               |YES         |YES         |\n",
            "|1987|10   |25        |7        |729    |730       |851    |849       |PS           |1451     |NA     |82               |79            |NA     |2       |-1      |SAN   |SFO |447     |NA    |NA     |0        |NA              |0       |NA          |NA          |NA      |NA           |NA               |YES         |NO          |\n",
            "|1987|10   |26        |1        |735    |730       |904    |849       |PS           |1451     |NA     |89               |79            |NA     |15      |5       |SAN   |SFO |447     |NA    |NA     |0        |NA              |0       |NA          |NA          |NA      |NA           |NA               |YES         |YES         |\n",
            "|1987|10   |28        |3        |741    |725       |919    |855       |PS           |1451     |NA     |98               |90            |NA     |24      |16      |SAN   |SFO |447     |NA    |NA     |0        |NA              |0       |NA          |NA          |NA      |NA           |NA               |YES         |YES         |\n",
            "|1987|10   |29        |4        |742    |725       |906    |855       |PS           |1451     |NA     |84               |90            |NA     |11      |17      |SAN   |SFO |447     |NA    |NA     |0        |NA              |0       |NA          |NA          |NA      |NA           |NA               |YES         |YES         |\n",
            "|1987|10   |31        |6        |726    |725       |848    |855       |PS           |1451     |NA     |82               |90            |NA     |-7      |1       |SAN   |SFO |447     |NA    |NA     |0        |NA              |0       |NA          |NA          |NA      |NA           |NA               |NO          |YES         |\n",
            "|1987|10   |1         |4        |936    |915       |1035   |1001      |PS           |1451     |NA     |59               |46            |NA     |34      |21      |SFO   |RNO |192     |NA    |NA     |0        |NA              |0       |NA          |NA          |NA      |NA           |NA               |YES         |YES         |\n",
            "|1987|10   |2         |5        |918    |915       |1017   |1001      |PS           |1451     |NA     |59               |46            |NA     |16      |3       |SFO   |RNO |192     |NA    |NA     |0        |NA              |0       |NA          |NA          |NA      |NA           |NA               |YES         |YES         |\n",
            "|1987|10   |3         |6        |928    |915       |1037   |1001      |PS           |1451     |NA     |69               |46            |NA     |36      |13      |SFO   |RNO |192     |NA    |NA     |0        |NA              |0       |NA          |NA          |NA      |NA           |NA               |YES         |YES         |\n",
            "|1987|10   |4         |7        |914    |915       |1003   |1001      |PS           |1451     |NA     |49               |46            |NA     |2       |-1      |SFO   |RNO |192     |NA    |NA     |0        |NA              |0       |NA          |NA          |NA      |NA           |NA               |YES         |NO          |\n",
            "|1987|10   |5         |1        |1042   |915       |1129   |1001      |PS           |1451     |NA     |47               |46            |NA     |88      |87      |SFO   |RNO |192     |NA    |NA     |0        |NA              |0       |NA          |NA          |NA      |NA           |NA               |YES         |YES         |\n",
            "|1987|10   |6         |2        |934    |915       |1024   |1001      |PS           |1451     |NA     |50               |46            |NA     |23      |19      |SFO   |RNO |192     |NA    |NA     |0        |NA              |0       |NA          |NA          |NA      |NA           |NA               |YES         |YES         |\n",
            "+----+-----+----------+---------+-------+----------+-------+----------+-------------+---------+-------+-----------------+--------------+-------+--------+--------+------+----+--------+------+-------+---------+----------------+--------+------------+------------+--------+-------------+-----------------+------------+------------+\n",
            "only showing top 20 rows\n",
            "\n"
          ]
        }
      ]
    },
    {
      "cell_type": "code",
      "source": [
        "df_demo=spark.read.format(\"csv\").option('header',True).load(\"/content/part-00000\").show(truncate=False)"
      ],
      "metadata": {
        "colab": {
          "base_uri": "https://localhost:8080/"
        },
        "id": "HhJ5bH3zuPFd",
        "outputId": "532858cb-23fe-47da-d4ee-a3722e86831a"
      },
      "execution_count": null,
      "outputs": [
        {
          "output_type": "stream",
          "name": "stdout",
          "text": [
            "+----+-----+----------+---------+-------+----------+-------+----------+-------------+---------+-------+-----------------+--------------+-------+--------+--------+------+----+--------+------+-------+---------+----------------+--------+------------+------------+--------+-------------+-----------------+------------+------------+\n",
            "|Year|Month|DayofMonth|DayOfWeek|DepTime|CRSDepTime|ArrTime|CRSArrTime|UniqueCarrier|FlightNum|TailNum|ActualElapsedTime|CRSElapsedTime|AirTime|ArrDelay|DepDelay|Origin|Dest|Distance|TaxiIn|TaxiOut|Cancelled|CancellationCode|Diverted|CarrierDelay|WeatherDelay|NASDelay|SecurityDelay|LateAircraftDelay|IsArrDelayed|IsDepDelayed|\n",
            "+----+-----+----------+---------+-------+----------+-------+----------+-------------+---------+-------+-----------------+--------------+-------+--------+--------+------+----+--------+------+-------+---------+----------------+--------+------------+------------+--------+-------------+-----------------+------------+------------+\n",
            "|1987|10   |14        |3        |741    |730       |912    |849       |PS           |1451     |NA     |91               |79            |NA     |23      |11      |SAN   |SFO |447     |NA    |NA     |0        |NA              |0       |NA          |NA          |NA      |NA           |NA               |YES         |YES         |\n",
            "|1987|10   |15        |4        |729    |730       |903    |849       |PS           |1451     |NA     |94               |79            |NA     |14      |-1      |SAN   |SFO |447     |NA    |NA     |0        |NA              |0       |NA          |NA          |NA      |NA           |NA               |YES         |NO          |\n",
            "|1987|10   |17        |6        |741    |730       |918    |849       |PS           |1451     |NA     |97               |79            |NA     |29      |11      |SAN   |SFO |447     |NA    |NA     |0        |NA              |0       |NA          |NA          |NA      |NA           |NA               |YES         |YES         |\n",
            "|1987|10   |18        |7        |729    |730       |847    |849       |PS           |1451     |NA     |78               |79            |NA     |-2      |-1      |SAN   |SFO |447     |NA    |NA     |0        |NA              |0       |NA          |NA          |NA      |NA           |NA               |NO          |NO          |\n",
            "|1987|10   |19        |1        |749    |730       |922    |849       |PS           |1451     |NA     |93               |79            |NA     |33      |19      |SAN   |SFO |447     |NA    |NA     |0        |NA              |0       |NA          |NA          |NA      |NA           |NA               |YES         |YES         |\n",
            "|1987|10   |21        |3        |728    |730       |848    |849       |PS           |1451     |NA     |80               |79            |NA     |-1      |-2      |SAN   |SFO |447     |NA    |NA     |0        |NA              |0       |NA          |NA          |NA      |NA           |NA               |NO          |NO          |\n",
            "|1987|10   |22        |4        |728    |730       |852    |849       |PS           |1451     |NA     |84               |79            |NA     |3       |-2      |SAN   |SFO |447     |NA    |NA     |0        |NA              |0       |NA          |NA          |NA      |NA           |NA               |YES         |NO          |\n",
            "|1987|10   |23        |5        |731    |730       |902    |849       |PS           |1451     |NA     |91               |79            |NA     |13      |1       |SAN   |SFO |447     |NA    |NA     |0        |NA              |0       |NA          |NA          |NA      |NA           |NA               |YES         |YES         |\n",
            "|1987|10   |24        |6        |744    |730       |908    |849       |PS           |1451     |NA     |84               |79            |NA     |19      |14      |SAN   |SFO |447     |NA    |NA     |0        |NA              |0       |NA          |NA          |NA      |NA           |NA               |YES         |YES         |\n",
            "|1987|10   |25        |7        |729    |730       |851    |849       |PS           |1451     |NA     |82               |79            |NA     |2       |-1      |SAN   |SFO |447     |NA    |NA     |0        |NA              |0       |NA          |NA          |NA      |NA           |NA               |YES         |NO          |\n",
            "|1987|10   |26        |1        |735    |730       |904    |849       |PS           |1451     |NA     |89               |79            |NA     |15      |5       |SAN   |SFO |447     |NA    |NA     |0        |NA              |0       |NA          |NA          |NA      |NA           |NA               |YES         |YES         |\n",
            "|1987|10   |28        |3        |741    |725       |919    |855       |PS           |1451     |NA     |98               |90            |NA     |24      |16      |SAN   |SFO |447     |NA    |NA     |0        |NA              |0       |NA          |NA          |NA      |NA           |NA               |YES         |YES         |\n",
            "|1987|10   |29        |4        |742    |725       |906    |855       |PS           |1451     |NA     |84               |90            |NA     |11      |17      |SAN   |SFO |447     |NA    |NA     |0        |NA              |0       |NA          |NA          |NA      |NA           |NA               |YES         |YES         |\n",
            "|1987|10   |31        |6        |726    |725       |848    |855       |PS           |1451     |NA     |82               |90            |NA     |-7      |1       |SAN   |SFO |447     |NA    |NA     |0        |NA              |0       |NA          |NA          |NA      |NA           |NA               |NO          |YES         |\n",
            "|1987|10   |1         |4        |936    |915       |1035   |1001      |PS           |1451     |NA     |59               |46            |NA     |34      |21      |SFO   |RNO |192     |NA    |NA     |0        |NA              |0       |NA          |NA          |NA      |NA           |NA               |YES         |YES         |\n",
            "|1987|10   |2         |5        |918    |915       |1017   |1001      |PS           |1451     |NA     |59               |46            |NA     |16      |3       |SFO   |RNO |192     |NA    |NA     |0        |NA              |0       |NA          |NA          |NA      |NA           |NA               |YES         |YES         |\n",
            "|1987|10   |3         |6        |928    |915       |1037   |1001      |PS           |1451     |NA     |69               |46            |NA     |36      |13      |SFO   |RNO |192     |NA    |NA     |0        |NA              |0       |NA          |NA          |NA      |NA           |NA               |YES         |YES         |\n",
            "|1987|10   |4         |7        |914    |915       |1003   |1001      |PS           |1451     |NA     |49               |46            |NA     |2       |-1      |SFO   |RNO |192     |NA    |NA     |0        |NA              |0       |NA          |NA          |NA      |NA           |NA               |YES         |NO          |\n",
            "|1987|10   |5         |1        |1042   |915       |1129   |1001      |PS           |1451     |NA     |47               |46            |NA     |88      |87      |SFO   |RNO |192     |NA    |NA     |0        |NA              |0       |NA          |NA          |NA      |NA           |NA               |YES         |YES         |\n",
            "|1987|10   |6         |2        |934    |915       |1024   |1001      |PS           |1451     |NA     |50               |46            |NA     |23      |19      |SFO   |RNO |192     |NA    |NA     |0        |NA              |0       |NA          |NA          |NA      |NA           |NA               |YES         |YES         |\n",
            "+----+-----+----------+---------+-------+----------+-------+----------+-------------+---------+-------+-----------------+--------------+-------+--------+--------+------+----+--------+------+-------+---------+----------------+--------+------------+------------+--------+-------------+-----------------+------------+------------+\n",
            "only showing top 20 rows\n",
            "\n"
          ]
        }
      ]
    },
    {
      "cell_type": "code",
      "source": [
        "df_demo.write.option(\"header\",True).option(\"delimiter\",\"|\").csv(\"Result/part1\")"
      ],
      "metadata": {
        "colab": {
          "base_uri": "https://localhost:8080/",
          "height": 165
        },
        "id": "M4gTaSdPvnnA",
        "outputId": "5007a68e-0b34-4bf5-9fbc-dfda60fca056"
      },
      "execution_count": null,
      "outputs": [
        {
          "output_type": "error",
          "ename": "AttributeError",
          "evalue": "ignored",
          "traceback": [
            "\u001b[0;31m---------------------------------------------------------------------------\u001b[0m",
            "\u001b[0;31mAttributeError\u001b[0m                            Traceback (most recent call last)",
            "\u001b[0;32m<ipython-input-80-14fb56c2d312>\u001b[0m in \u001b[0;36m<module>\u001b[0;34m\u001b[0m\n\u001b[0;32m----> 1\u001b[0;31m \u001b[0mdf_demo\u001b[0m\u001b[0;34m.\u001b[0m\u001b[0mwrite\u001b[0m\u001b[0;34m.\u001b[0m\u001b[0moption\u001b[0m\u001b[0;34m(\u001b[0m\u001b[0;34m\"header\"\u001b[0m\u001b[0;34m,\u001b[0m\u001b[0;32mTrue\u001b[0m\u001b[0;34m)\u001b[0m\u001b[0;34m.\u001b[0m\u001b[0moption\u001b[0m\u001b[0;34m(\u001b[0m\u001b[0;34m\"delimiter\"\u001b[0m\u001b[0;34m,\u001b[0m\u001b[0;34m\"|\"\u001b[0m\u001b[0;34m)\u001b[0m\u001b[0;34m.\u001b[0m\u001b[0mcsv\u001b[0m\u001b[0;34m(\u001b[0m\u001b[0;34m\"Result/part1\"\u001b[0m\u001b[0;34m)\u001b[0m\u001b[0;34m\u001b[0m\u001b[0;34m\u001b[0m\u001b[0m\n\u001b[0m",
            "\u001b[0;31mAttributeError\u001b[0m: 'NoneType' object has no attribute 'write'"
          ]
        }
      ]
    },
    {
      "cell_type": "code",
      "source": [],
      "metadata": {
        "id": "RS662fxK96eJ"
      },
      "execution_count": null,
      "outputs": []
    }
  ]
}
{
  "nbformat": 4,
  "nbformat_minor": 0,
  "metadata": {
    "colab": {
      "provenance": [],
      "authorship_tag": "ABX9TyO8e8HVQOWGe1I6m2tsX1oi",
      "include_colab_link": true
    },
    "kernelspec": {
      "name": "python3",
      "display_name": "Python 3"
    },
    "language_info": {
      "name": "python"
    }
  },
  "cells": [
    {
      "cell_type": "markdown",
      "metadata": {
        "id": "view-in-github",
        "colab_type": "text"
      },
      "source": [
        "<a href=\"https://colab.research.google.com/github/Madangowda1992/T05_089_Madangowda_Python/blob/pyspark_worksheet1/Untitled2.ipynb\" target=\"_parent\"><img src=\"https://colab.research.google.com/assets/colab-badge.svg\" alt=\"Open In Colab\"/></a>"
      ]
    },
    {
      "cell_type": "code",
      "execution_count": null,
      "metadata": {
        "id": "d3vSGS3bdAu8"
      },
      "outputs": [],
      "source": [
        "!apt-get install openjdk-8-jdk-headless -qq > /dev/null\n",
        "\n",
        "!wget -q https://dlcdn.apache.org/spark/spark-3.2.2/spark-3.2.2-bin-hadoop3.2.tgz \n",
        "\n",
        "!tar xf spark-3.2.2-bin-hadoop3.2.tgz\n",
        "\n",
        "!pip install -q findspark\n",
        "\n",
        "import os\n",
        "\n",
        "os.environ[\"JAVA_HOME\"] = \"/usr/lib/jvm/java-8-openjdk-amd64\"\n",
        "\n",
        "os.environ[\"SPARK_HOME\"] = \"/content/spark-3.2.2-bin-hadoop3.2\"\n",
        "\n",
        "import findspark\n",
        "\n",
        "findspark.init()\n",
        "\n",
        "findspark.find()\n",
        "\n",
        "from pyspark.context import SparkContext\n",
        "from pyspark.sql.session import SparkSession\n",
        "from pyspark.sql import SparkSession\n",
        "from pyspark.sql.types import IntegerType, DateType, StringType, StructType, StructField\n",
        "from datetime import date, timedelta\n",
        "import pyspark.sql.functions as F\n",
        "\n",
        "\n",
        "spark = SparkSession.builder.appName('SparkByExamples.com').getOrCreate()"
      ]
    },
    {
      "cell_type": "code",
      "source": [
        "df = spark.read.format('csv').option('header',True).load('/content/sample_data/california_housing_test.csv')"
      ],
      "metadata": {
        "id": "-898ipNBdeTB"
      },
      "execution_count": null,
      "outputs": []
    },
    {
      "cell_type": "code",
      "source": [
        "df.printSchema()"
      ],
      "metadata": {
        "colab": {
          "base_uri": "https://localhost:8080/"
        },
        "id": "D1pGu8w6d2WX",
        "outputId": "ceb5869b-9b45-428f-de7d-04fec6842b8e"
      },
      "execution_count": null,
      "outputs": [
        {
          "output_type": "stream",
          "name": "stdout",
          "text": [
            "root\n",
            " |-- longitude: string (nullable = true)\n",
            " |-- latitude: string (nullable = true)\n",
            " |-- housing_median_age: string (nullable = true)\n",
            " |-- total_rooms: string (nullable = true)\n",
            " |-- total_bedrooms: string (nullable = true)\n",
            " |-- population: string (nullable = true)\n",
            " |-- households: string (nullable = true)\n",
            " |-- median_income: string (nullable = true)\n",
            " |-- median_house_value: string (nullable = true)\n",
            "\n"
          ]
        }
      ]
    },
    {
      "cell_type": "code",
      "source": [],
      "metadata": {
        "id": "mJ6Efg9Qt5jE"
      },
      "execution_count": null,
      "outputs": []
    },
    {
      "cell_type": "code",
      "source": [
        "df.show(5)"
      ],
      "metadata": {
        "colab": {
          "base_uri": "https://localhost:8080/"
        },
        "id": "YLwUMXPod2jH",
        "outputId": "46a72ae1-8e4c-4c71-feb6-454c807213c2"
      },
      "execution_count": null,
      "outputs": [
        {
          "output_type": "stream",
          "name": "stdout",
          "text": [
            "+-----------+---------+------------------+-----------+--------------+-----------+----------+-------------+------------------+\n",
            "|  longitude| latitude|housing_median_age|total_rooms|total_bedrooms| population|households|median_income|median_house_value|\n",
            "+-----------+---------+------------------+-----------+--------------+-----------+----------+-------------+------------------+\n",
            "|-122.050000|37.370000|         27.000000|3885.000000|    661.000000|1537.000000|606.000000|     6.608500|     344700.000000|\n",
            "|-118.300000|34.260000|         43.000000|1510.000000|    310.000000| 809.000000|277.000000|     3.599000|     176500.000000|\n",
            "|-117.810000|33.780000|         27.000000|3589.000000|    507.000000|1484.000000|495.000000|     5.793400|     270500.000000|\n",
            "|-118.360000|33.820000|         28.000000|  67.000000|     15.000000|  49.000000| 11.000000|     6.135900|     330000.000000|\n",
            "|-119.670000|36.330000|         19.000000|1241.000000|    244.000000| 850.000000|237.000000|     2.937500|      81700.000000|\n",
            "+-----------+---------+------------------+-----------+--------------+-----------+----------+-------------+------------------+\n",
            "only showing top 5 rows\n",
            "\n"
          ]
        }
      ]
    },
    {
      "cell_type": "code",
      "source": [
        "df_new = df.repartition(2, 'longitude')\n",
        "# df.rdd.getNumPartitions()"
      ],
      "metadata": {
        "id": "19-3Na6Nd2tC"
      },
      "execution_count": null,
      "outputs": []
    },
    {
      "cell_type": "code",
      "source": [
        "df_new.rdd.getNumPartitions()"
      ],
      "metadata": {
        "colab": {
          "base_uri": "https://localhost:8080/"
        },
        "id": "LuENOFxyet7z",
        "outputId": "aa8ba781-e2e2-468f-8cb7-f7f781e7986a"
      },
      "execution_count": null,
      "outputs": [
        {
          "output_type": "execute_result",
          "data": {
            "text/plain": [
              "2"
            ]
          },
          "metadata": {},
          "execution_count": 5
        }
      ]
    },
    {
      "cell_type": "code",
      "source": [
        "df_new.write.format('csv').mode('overwrite').save('partitioned_folder')"
      ],
      "metadata": {
        "id": "R5YSOq-WeuC8"
      },
      "execution_count": null,
      "outputs": []
    },
    {
      "cell_type": "code",
      "source": [
        "df_part1=spark.read.format('csv').option('header',True).load('/content/partitioned_folder/part-00000-2179e724-0c59-4412-b2ba-e9c4e4d17cf8-c000.csv')\n",
        "df_part1.show()"
      ],
      "metadata": {
        "colab": {
          "base_uri": "https://localhost:8080/"
        },
        "id": "Obx4prG-euH3",
        "outputId": "d6f7fc09-a266-44dd-ff00-366d220a02aa"
      },
      "execution_count": null,
      "outputs": [
        {
          "output_type": "stream",
          "name": "stdout",
          "text": [
            "+-----------+---------+---------+------------+-----------+-----------+-----------+--------+-------------+\n",
            "|-122.050000|37.370000|27.000000| 3885.000000| 661.000000|1537.000000| 606.000000|6.608500|344700.000000|\n",
            "+-----------+---------+---------+------------+-----------+-----------+-----------+--------+-------------+\n",
            "|-117.810000|33.780000|27.000000| 3589.000000| 507.000000|1484.000000| 495.000000|5.793400|270500.000000|\n",
            "|-120.650000|35.480000|19.000000| 2310.000000| 471.000000|1341.000000| 441.000000|3.225000|166900.000000|\n",
            "|-118.020000|34.080000|31.000000| 2402.000000| 632.000000|2830.000000| 603.000000|2.333300|164200.000000|\n",
            "|-118.240000|33.980000|45.000000|  972.000000| 249.000000|1288.000000| 261.000000|2.205400|125000.000000|\n",
            "|-119.120000|35.850000|37.000000|  736.000000| 166.000000| 564.000000| 138.000000|2.416700| 58300.000000|\n",
            "|-117.030000|32.970000|16.000000| 3936.000000| 694.000000|1935.000000| 659.000000|4.562500|231200.000000|\n",
            "|-117.970000|33.730000|27.000000| 2097.000000| 325.000000|1217.000000| 331.000000|5.712100|222500.000000|\n",
            "|-117.990000|33.810000|42.000000|  161.000000|  40.000000| 157.000000|  50.000000|2.200000|153100.000000|\n",
            "|-120.810000|37.530000|15.000000|  570.000000| 123.000000| 189.000000| 107.000000|1.875000|181300.000000|\n",
            "|-121.200000|38.690000|26.000000| 3077.000000| 607.000000|1603.000000| 595.000000|2.717400|137500.000000|\n",
            "|-121.370000|38.680000|36.000000| 1775.000000| 296.000000| 937.000000| 305.000000|3.178600| 83400.000000|\n",
            "|-118.160000|34.070000|47.000000| 2994.000000| 543.000000|1651.000000| 561.000000|3.864400|241500.000000|\n",
            "|-122.200000|37.790000|45.000000| 2021.000000| 528.000000|1410.000000| 480.000000|2.778800|115400.000000|\n",
            "|-117.280000|33.280000|13.000000| 6131.000000|1040.000000|4049.000000| 940.000000|3.815600|150700.000000|\n",
            "|-122.420000|37.760000|52.000000| 3587.000000|1030.000000|2259.000000| 979.000000|2.540300|250000.000000|\n",
            "|-118.480000|34.010000|30.000000| 3078.000000| 954.000000|1561.000000| 901.000000|3.485200|425000.000000|\n",
            "|-121.130000|39.310000|17.000000| 3442.000000| 705.000000|1693.000000| 619.000000|2.810200|128900.000000|\n",
            "|-118.080000|34.550000| 5.000000|16181.000000|2971.000000|8152.000000|2651.000000|4.523700|141800.000000|\n",
            "|-118.320000|33.940000|38.000000| 1067.000000| 170.000000| 499.000000| 169.000000|4.638900|183800.000000|\n",
            "|-118.020000|33.920000|34.000000| 1478.000000| 251.000000| 956.000000| 277.000000|5.523800|185300.000000|\n",
            "+-----------+---------+---------+------------+-----------+-----------+-----------+--------+-------------+\n",
            "only showing top 20 rows\n",
            "\n"
          ]
        }
      ]
    },
    {
      "cell_type": "code",
      "source": [],
      "metadata": {
        "id": "zdcDMN76gf4k"
      },
      "execution_count": null,
      "outputs": []
    },
    {
      "cell_type": "code",
      "source": [
        "df_part2=spark.read.format('csv').option('header',True).load('/content/partitioned_folder/part-00001-2179e724-0c59-4412-b2ba-e9c4e4d17cf8-c000.csv')\n",
        "df_part2.show()\n",
        "df_part2.printSchema()"
      ],
      "metadata": {
        "colab": {
          "base_uri": "https://localhost:8080/",
          "height": 380
        },
        "id": "OVaDtsCZgZcD",
        "outputId": "7f35bc7b-db54-42d9-8566-57406def7243"
      },
      "execution_count": null,
      "outputs": [
        {
          "output_type": "error",
          "ename": "AnalysisException",
          "evalue": "ignored",
          "traceback": [
            "\u001b[0;31m---------------------------------------------------------------------------\u001b[0m",
            "\u001b[0;31mAnalysisException\u001b[0m                         Traceback (most recent call last)",
            "\u001b[0;32m<ipython-input-8-d62c16942c33>\u001b[0m in \u001b[0;36m<module>\u001b[0;34m\u001b[0m\n\u001b[0;32m----> 1\u001b[0;31m \u001b[0mdf_part2\u001b[0m\u001b[0;34m=\u001b[0m\u001b[0mspark\u001b[0m\u001b[0;34m.\u001b[0m\u001b[0mread\u001b[0m\u001b[0;34m.\u001b[0m\u001b[0mformat\u001b[0m\u001b[0;34m(\u001b[0m\u001b[0;34m'csv'\u001b[0m\u001b[0;34m)\u001b[0m\u001b[0;34m.\u001b[0m\u001b[0moption\u001b[0m\u001b[0;34m(\u001b[0m\u001b[0;34m'header'\u001b[0m\u001b[0;34m,\u001b[0m\u001b[0;32mTrue\u001b[0m\u001b[0;34m)\u001b[0m\u001b[0;34m.\u001b[0m\u001b[0mload\u001b[0m\u001b[0;34m(\u001b[0m\u001b[0;34m'/content/partitioned_folder/part-00001-2179e724-0c59-4412-b2ba-e9c4e4d17cf8-c000.csv'\u001b[0m\u001b[0;34m)\u001b[0m\u001b[0;34m\u001b[0m\u001b[0;34m\u001b[0m\u001b[0m\n\u001b[0m\u001b[1;32m      2\u001b[0m \u001b[0mdf_part2\u001b[0m\u001b[0;34m.\u001b[0m\u001b[0mshow\u001b[0m\u001b[0;34m(\u001b[0m\u001b[0;34m)\u001b[0m\u001b[0;34m\u001b[0m\u001b[0;34m\u001b[0m\u001b[0m\n\u001b[1;32m      3\u001b[0m \u001b[0mdf_part2\u001b[0m\u001b[0;34m.\u001b[0m\u001b[0mprintSchema\u001b[0m\u001b[0;34m(\u001b[0m\u001b[0;34m)\u001b[0m\u001b[0;34m\u001b[0m\u001b[0;34m\u001b[0m\u001b[0m\n",
            "\u001b[0;32m/content/spark-3.2.2-bin-hadoop3.2/python/pyspark/sql/readwriter.py\u001b[0m in \u001b[0;36mload\u001b[0;34m(self, path, format, schema, **options)\u001b[0m\n\u001b[1;32m    156\u001b[0m         \u001b[0mself\u001b[0m\u001b[0;34m.\u001b[0m\u001b[0moptions\u001b[0m\u001b[0;34m(\u001b[0m\u001b[0;34m**\u001b[0m\u001b[0moptions\u001b[0m\u001b[0;34m)\u001b[0m\u001b[0;34m\u001b[0m\u001b[0;34m\u001b[0m\u001b[0m\n\u001b[1;32m    157\u001b[0m         \u001b[0;32mif\u001b[0m \u001b[0misinstance\u001b[0m\u001b[0;34m(\u001b[0m\u001b[0mpath\u001b[0m\u001b[0;34m,\u001b[0m \u001b[0mstr\u001b[0m\u001b[0;34m)\u001b[0m\u001b[0;34m:\u001b[0m\u001b[0;34m\u001b[0m\u001b[0;34m\u001b[0m\u001b[0m\n\u001b[0;32m--> 158\u001b[0;31m             \u001b[0;32mreturn\u001b[0m \u001b[0mself\u001b[0m\u001b[0;34m.\u001b[0m\u001b[0m_df\u001b[0m\u001b[0;34m(\u001b[0m\u001b[0mself\u001b[0m\u001b[0;34m.\u001b[0m\u001b[0m_jreader\u001b[0m\u001b[0;34m.\u001b[0m\u001b[0mload\u001b[0m\u001b[0;34m(\u001b[0m\u001b[0mpath\u001b[0m\u001b[0;34m)\u001b[0m\u001b[0;34m)\u001b[0m\u001b[0;34m\u001b[0m\u001b[0;34m\u001b[0m\u001b[0m\n\u001b[0m\u001b[1;32m    159\u001b[0m         \u001b[0;32melif\u001b[0m \u001b[0mpath\u001b[0m \u001b[0;32mis\u001b[0m \u001b[0;32mnot\u001b[0m \u001b[0;32mNone\u001b[0m\u001b[0;34m:\u001b[0m\u001b[0;34m\u001b[0m\u001b[0;34m\u001b[0m\u001b[0m\n\u001b[1;32m    160\u001b[0m             \u001b[0;32mif\u001b[0m \u001b[0mtype\u001b[0m\u001b[0;34m(\u001b[0m\u001b[0mpath\u001b[0m\u001b[0;34m)\u001b[0m \u001b[0;34m!=\u001b[0m \u001b[0mlist\u001b[0m\u001b[0;34m:\u001b[0m\u001b[0;34m\u001b[0m\u001b[0;34m\u001b[0m\u001b[0m\n",
            "\u001b[0;32m/content/spark-3.2.2-bin-hadoop3.2/python/lib/py4j-0.10.9.5-src.zip/py4j/java_gateway.py\u001b[0m in \u001b[0;36m__call__\u001b[0;34m(self, *args)\u001b[0m\n\u001b[1;32m   1320\u001b[0m         \u001b[0manswer\u001b[0m \u001b[0;34m=\u001b[0m \u001b[0mself\u001b[0m\u001b[0;34m.\u001b[0m\u001b[0mgateway_client\u001b[0m\u001b[0;34m.\u001b[0m\u001b[0msend_command\u001b[0m\u001b[0;34m(\u001b[0m\u001b[0mcommand\u001b[0m\u001b[0;34m)\u001b[0m\u001b[0;34m\u001b[0m\u001b[0;34m\u001b[0m\u001b[0m\n\u001b[1;32m   1321\u001b[0m         return_value = get_return_value(\n\u001b[0;32m-> 1322\u001b[0;31m             answer, self.gateway_client, self.target_id, self.name)\n\u001b[0m\u001b[1;32m   1323\u001b[0m \u001b[0;34m\u001b[0m\u001b[0m\n\u001b[1;32m   1324\u001b[0m         \u001b[0;32mfor\u001b[0m \u001b[0mtemp_arg\u001b[0m \u001b[0;32min\u001b[0m \u001b[0mtemp_args\u001b[0m\u001b[0;34m:\u001b[0m\u001b[0;34m\u001b[0m\u001b[0;34m\u001b[0m\u001b[0m\n",
            "\u001b[0;32m/content/spark-3.2.2-bin-hadoop3.2/python/pyspark/sql/utils.py\u001b[0m in \u001b[0;36mdeco\u001b[0;34m(*a, **kw)\u001b[0m\n\u001b[1;32m    115\u001b[0m                 \u001b[0;31m# Hide where the exception came from that shows a non-Pythonic\u001b[0m\u001b[0;34m\u001b[0m\u001b[0;34m\u001b[0m\u001b[0;34m\u001b[0m\u001b[0m\n\u001b[1;32m    116\u001b[0m                 \u001b[0;31m# JVM exception message.\u001b[0m\u001b[0;34m\u001b[0m\u001b[0;34m\u001b[0m\u001b[0;34m\u001b[0m\u001b[0m\n\u001b[0;32m--> 117\u001b[0;31m                 \u001b[0;32mraise\u001b[0m \u001b[0mconverted\u001b[0m \u001b[0;32mfrom\u001b[0m \u001b[0;32mNone\u001b[0m\u001b[0;34m\u001b[0m\u001b[0;34m\u001b[0m\u001b[0m\n\u001b[0m\u001b[1;32m    118\u001b[0m             \u001b[0;32melse\u001b[0m\u001b[0;34m:\u001b[0m\u001b[0;34m\u001b[0m\u001b[0;34m\u001b[0m\u001b[0m\n\u001b[1;32m    119\u001b[0m                 \u001b[0;32mraise\u001b[0m\u001b[0;34m\u001b[0m\u001b[0;34m\u001b[0m\u001b[0m\n",
            "\u001b[0;31mAnalysisException\u001b[0m: Path does not exist: file:/content/partitioned_folder/part-00001-2179e724-0c59-4412-b2ba-e9c4e4d17cf8-c000.csv"
          ]
        }
      ]
    },
    {
      "cell_type": "code",
      "source": [
        "df_day1=spark.read.text(\"/content/sample4.csv\")\n",
        "df_day1.show(10)"
      ],
      "metadata": {
        "colab": {
          "base_uri": "https://localhost:8080/"
        },
        "id": "seJ7uK9seuLm",
        "outputId": "8c5c98e4-7a8b-488a-dc13-66068ba1c787"
      },
      "execution_count": null,
      "outputs": [
        {
          "output_type": "stream",
          "name": "stdout",
          "text": [
            "+--------------------+\n",
            "|               value|\n",
            "+--------------------+\n",
            "|\"Game Number\", \"G...|\n",
            "|               1, 30|\n",
            "|               2, 29|\n",
            "|               3, 31|\n",
            "|               4, 16|\n",
            "|               5, 24|\n",
            "|               6, 29|\n",
            "|               7, 28|\n",
            "|              8, 117|\n",
            "|               9, 42|\n",
            "+--------------------+\n",
            "only showing top 10 rows\n",
            "\n"
          ]
        }
      ]
    },
    {
      "cell_type": "code",
      "source": [
        "df_day1=spark.read.csv(\"/content/sample4.csv\",header=True) #using read.csv//\n",
        "df_day1.show(5)\n"
      ],
      "metadata": {
        "colab": {
          "base_uri": "https://localhost:8080/"
        },
        "id": "fmos14YiM_My",
        "outputId": "0dccc81f-af47-41ba-d836-2a9993784e90"
      },
      "execution_count": null,
      "outputs": [
        {
          "output_type": "stream",
          "name": "stdout",
          "text": [
            "+-----------+--------------+\n",
            "|Game Number| \"Game Length\"|\n",
            "+-----------+--------------+\n",
            "|          1|            30|\n",
            "|          2|            29|\n",
            "|          3|            31|\n",
            "|          4|            16|\n",
            "|          5|            24|\n",
            "+-----------+--------------+\n",
            "only showing top 5 rows\n",
            "\n"
          ]
        }
      ]
    },
    {
      "cell_type": "code",
      "source": [],
      "metadata": {
        "id": "7z_S583-NkXp"
      },
      "execution_count": null,
      "outputs": []
    },
    {
      "cell_type": "code",
      "source": [
        "df_demo=spark.read.format(\"csv\").option('header',True).load(\"/content/sample4.csv\")\n",
        "df_demo.show(10)"
      ],
      "metadata": {
        "colab": {
          "base_uri": "https://localhost:8080/"
        },
        "id": "5kvkTEx2NrpR",
        "outputId": "734440cf-478d-4a0e-f760-221bf8d12e7d"
      },
      "execution_count": null,
      "outputs": [
        {
          "output_type": "stream",
          "name": "stdout",
          "text": [
            "+-----------+--------------+\n",
            "|Game Number| \"Game Length\"|\n",
            "+-----------+--------------+\n",
            "|          1|            30|\n",
            "|          2|            29|\n",
            "|          3|            31|\n",
            "|          4|            16|\n",
            "|          5|            24|\n",
            "|          6|            29|\n",
            "|          7|            28|\n",
            "|          8|           117|\n",
            "|          9|            42|\n",
            "|         10|            23|\n",
            "+-----------+--------------+\n",
            "only showing top 10 rows\n",
            "\n"
          ]
        }
      ]
    },
    {
      "cell_type": "code",
      "source": [
        "#df_day1.write.csv('Data/write_demo') #using write.csv()\n",
        "#df_day1.write.format(\"csv\").save(\"RESULT\") #USING WRITE.FORMAT().SAVE() METHOD"
      ],
      "metadata": {
        "id": "UlBqFoSwQftg"
      },
      "execution_count": null,
      "outputs": []
    },
    {
      "cell_type": "code",
      "source": [
        "#df_demo.write.option('header',True).csv(\"header_demo/file/myfile.csv\") #using df.write.option.csv(), we have to specify the header within options"
      ],
      "metadata": {
        "id": "XZjZKlfRblwn"
      },
      "execution_count": null,
      "outputs": []
    },
    {
      "cell_type": "code",
      "source": [
        "#df_day1.write.option(\"header\",True).option(\"delimiter\",\"|\").csv(\"file/myfile2.csv\") # using option separately"
      ],
      "metadata": {
        "id": "mzejRN3eiMu-"
      },
      "execution_count": null,
      "outputs": []
    },
    {
      "cell_type": "code",
      "source": [
        "#df_day1.write.option(\"header\",True).option(\"delimiter\",\"-->\").csv(\"file/myfile3.csv\") # using option separately"
      ],
      "metadata": {
        "id": "rSXENVqmj99W"
      },
      "execution_count": null,
      "outputs": []
    },
    {
      "cell_type": "code",
      "source": [
        "#df_day1.write.options(Map(\"header\" -> \"true\",\"delimiter\" -> \",\")).csv(\"file/myfile4.csv\")"
      ],
      "metadata": {
        "id": "WwZq2z8Jlt0-"
      },
      "execution_count": null,
      "outputs": []
    },
    {
      "cell_type": "code",
      "source": [
        "df_day1.write.option(\"header\",True).option(\"delimiter\",\",\").option(\"compression\",\"gzip\").csv(\"demo_files/file1.csv\") #converts it into zip and then saves"
      ],
      "metadata": {
        "id": "Y2l336wmsNI8"
      },
      "execution_count": null,
      "outputs": []
    }
  ]
}
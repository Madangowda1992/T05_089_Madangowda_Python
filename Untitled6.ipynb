{
  "nbformat": 4,
  "nbformat_minor": 0,
  "metadata": {
    "colab": {
      "provenance": [],
      "authorship_tag": "ABX9TyOL7o4hp8YtUG3re06QesMQ",
      "include_colab_link": true
    },
    "kernelspec": {
      "name": "python3",
      "display_name": "Python 3"
    },
    "language_info": {
      "name": "python"
    }
  },
  "cells": [
    {
      "cell_type": "markdown",
      "metadata": {
        "id": "view-in-github",
        "colab_type": "text"
      },
      "source": [
        "<a href=\"https://colab.research.google.com/github/Madangowda1992/T05_089_Madangowda_Python/blob/pyspark_worksheet1/Untitled6.ipynb\" target=\"_parent\"><img src=\"https://colab.research.google.com/assets/colab-badge.svg\" alt=\"Open In Colab\"/></a>"
      ]
    },
    {
      "cell_type": "code",
      "execution_count": 1,
      "metadata": {
        "id": "d4hXWpsYn-Ou"
      },
      "outputs": [],
      "source": [
        "!apt-get install openjdk-8-jdk-headless -qq > /dev/null\n",
        "\n",
        "!wget -q https://dlcdn.apache.org/spark/spark-3.2.2/spark-3.2.2-bin-hadoop3.2.tgz \n",
        "\n",
        "!tar xf spark-3.2.2-bin-hadoop3.2.tgz\n",
        "\n",
        "!pip install -q findspark\n",
        "\n",
        "import os\n",
        "\n",
        "os.environ[\"JAVA_HOME\"] = \"/usr/lib/jvm/java-8-openjdk-amd64\"\n",
        "\n",
        "os.environ[\"SPARK_HOME\"] = \"/content/spark-3.2.2-bin-hadoop3.2\"\n",
        "\n",
        "import findspark\n",
        "\n",
        "findspark.init()\n",
        "\n",
        "findspark.find()\n",
        "\n",
        "from pyspark.context import SparkContext\n",
        "from pyspark.sql.session import SparkSession\n",
        "from pyspark.sql import SparkSession\n",
        "from pyspark.sql.types import IntegerType, DateType, StringType, StructType, StructField\n",
        "from datetime import date, timedelta\n",
        "import pyspark.sql.functions as F\n",
        "\n",
        "\n",
        "spark = SparkSession.builder.appName('SparkByExamples.com').getOrCreate()\n",
        "\n"
      ]
    },
    {
      "cell_type": "code",
      "source": [
        "rdd = spark.sparkContext.textFile(\"/content/10-Sep-22_Coding Tasks.txt\")\n",
        "rdd.collect()\n"
      ],
      "metadata": {
        "id": "7xGwRpcWBWew"
      },
      "execution_count": null,
      "outputs": []
    },
    {
      "cell_type": "code",
      "source": [
        "list1=[]\n",
        "data=rdd.collect()\n",
        "for i in data:\n",
        "  list1.append(i)\n",
        "print(list1)\n",
        "list2=[]\n",
        "for i in list1:\n",
        "  list2=i.split('\\n') and i.split(',')\n",
        "print(list2)\n"
      ],
      "metadata": {
        "colab": {
          "base_uri": "https://localhost:8080/"
        },
        "id": "scgNdyERB7Sx",
        "outputId": "44b78d05-adaa-44bf-c255-9342bfaee1ff"
      },
      "execution_count": 12,
      "outputs": [
        {
          "output_type": "stream",
          "name": "stdout",
          "text": [
            "['Instructions:', '---------------', '\\t1. Use proper namaing conventions', '\\t2. Use pep8 standards', '\\t3. Write readable and clean code ', '\\t4. Where ever required use functions,oops,exception hanlding etc.,', '\\t5. Give detailed comments if required ', '\\t6. Write all programs in one .py file ', '\\t', '\\tFor ex: ', '\\t', '\\tEID_Name.py ', '\\t------------', '\\tprint(\"--------------Program 1-------------------\")', '\\tprint(\" ------Get ODD NUMBERS -----\")', '\\tprint(\" ------- 1.a. List Comprehension ------ \")', '\\t\\tcode', '\\tprint(\" ------- 1.b. Normal For Loop -------\")', '\\t\\tcode', '\\tprint(\" ------- 1.c. Generator mechanism ----\")', '\\t\\tcode', '', 'After writing program, write your own explanation for each problem.', '', '', '1. Implement palindrome using iterator(for loop) and generator mechanism.', '', '2. Sum of 2 digits into output', '\\t\\tn1 = 1234 # int(input(\"Enter number1 :\" ))', '\\t\\tn2 = 9999 # int(input(\"Enter number2 :\" ))', '\\t\\tOutput: 9+1 2+9 3+9 4+9 ', '\\t\\t         10 + 11 + 12 + 13', '\\t\\t\\t\\t 46', '\\t\\t', '3. st = \"ab@#cd!ef\"', '   Reverse string considering only alphabets. Symobls should not be reversed', '   # Output: fe@#dc!ba', '', '4. some_list = [\"a\", \"b\", \"c\", \"d\", \"n\", \"a\", \"b\", \"m\", \"n\", \"m\"]', '   #findout elements duplicate count output in  dict format', '\\t\\t', '\\t\\t', '5. # t1 = (1, 2, 3, \"a\", \"c\") ', '   # t2 = (\"b\", \"d\", 9, 8, 7)', '   # Output: (10,10,10,\"ab\",\"cd\")', '', '6  #Write a Python program to remove leading zeros from an IP address.', '\\t\\t\\t  inp = \"216.08.094.196\"', '\\t\\t\\t# o/p =  216.8.94.196', '   ', '7. l = [1, 2, [3, 4, [5, 6]], 7, 8, [9, [10]]]', '   #output= [1,2,3,4,5,6,7,8,9,10]', '', '8. Load sample content in text file.', '   Read data and find', '    1. No of lines in file', '\\t2. No of words in each line ', '\\t3. No of chars in each line', '\\t4. No of vowels and consonants', '\\t5. No of special chars linewise and total ', '\\t']\n",
            "['\\t']\n"
          ]
        }
      ]
    },
    {
      "cell_type": "code",
      "source": [
        "columns = [\"language\",\"users_count\"] \n",
        "data = [(\"Java\", \"20000\"), (\"Python\", \"100000\"), (\"Scala\", \"3000\")]"
      ],
      "metadata": {
        "id": "RCtIHh7eo95F"
      },
      "execution_count": null,
      "outputs": []
    },
    {
      "cell_type": "code",
      "source": [
        "rdd = spark.sparkContext.parallelize(data)"
      ],
      "metadata": {
        "id": "NT1DAYeFpDhv"
      },
      "execution_count": null,
      "outputs": []
    },
    {
      "cell_type": "code",
      "source": [
        "dfFromRDD1 = rdd.toDF() \n",
        "dfFromRDD1.printSchema()"
      ],
      "metadata": {
        "colab": {
          "base_uri": "https://localhost:8080/"
        },
        "id": "YTPzZEDyrrGp",
        "outputId": "3fdeeb42-eb25-4f3b-d08c-63b175204944"
      },
      "execution_count": null,
      "outputs": [
        {
          "output_type": "stream",
          "name": "stdout",
          "text": [
            "root\n",
            " |-- _1: string (nullable = true)\n",
            " |-- _2: string (nullable = true)\n",
            "\n"
          ]
        }
      ]
    },
    {
      "cell_type": "code",
      "source": [
        "df_demo=rdd.toDF(columns)\n",
        "df_demo.show()"
      ],
      "metadata": {
        "colab": {
          "base_uri": "https://localhost:8080/"
        },
        "id": "euDohJ5yuoIW",
        "outputId": "22ea4680-d679-402f-86fe-90e4364cc1ef"
      },
      "execution_count": null,
      "outputs": [
        {
          "output_type": "stream",
          "name": "stdout",
          "text": [
            "+--------+-----------+\n",
            "|language|users_count|\n",
            "+--------+-----------+\n",
            "|    Java|      20000|\n",
            "|  Python|     100000|\n",
            "|   Scala|       3000|\n",
            "+--------+-----------+\n",
            "\n"
          ]
        }
      ]
    },
    {
      "cell_type": "code",
      "source": [
        "df_demo.printSchema()"
      ],
      "metadata": {
        "colab": {
          "base_uri": "https://localhost:8080/"
        },
        "id": "3GQW7gzVvCLT",
        "outputId": "68f5752b-ce2d-402b-f348-7ea0044509b0"
      },
      "execution_count": null,
      "outputs": [
        {
          "output_type": "stream",
          "name": "stdout",
          "text": [
            "root\n",
            " |-- language: string (nullable = true)\n",
            " |-- users_count: string (nullable = true)\n",
            "\n"
          ]
        }
      ]
    },
    {
      "cell_type": "code",
      "source": [
        "df_demo.show()"
      ],
      "metadata": {
        "colab": {
          "base_uri": "https://localhost:8080/",
          "height": 165
        },
        "id": "Mk3_aw9QvG_x",
        "outputId": "138cc61d-6adf-4a0d-9657-973667413f72"
      },
      "execution_count": null,
      "outputs": [
        {
          "output_type": "error",
          "ename": "NameError",
          "evalue": "ignored",
          "traceback": [
            "\u001b[0;31m---------------------------------------------------------------------------\u001b[0m",
            "\u001b[0;31mNameError\u001b[0m                                 Traceback (most recent call last)",
            "\u001b[0;32m<ipython-input-1-9dc11caabed1>\u001b[0m in \u001b[0;36m<module>\u001b[0;34m\u001b[0m\n\u001b[0;32m----> 1\u001b[0;31m \u001b[0mdf_demo\u001b[0m\u001b[0;34m.\u001b[0m\u001b[0mshow\u001b[0m\u001b[0;34m(\u001b[0m\u001b[0;34m)\u001b[0m\u001b[0;34m\u001b[0m\u001b[0;34m\u001b[0m\u001b[0m\n\u001b[0m",
            "\u001b[0;31mNameError\u001b[0m: name 'df_demo' is not defined"
          ]
        }
      ]
    }
  ]
}